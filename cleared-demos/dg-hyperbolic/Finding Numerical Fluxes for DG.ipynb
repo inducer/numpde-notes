{
  "cells": [
    {
      "cell_type": "markdown",
      "metadata": {},
      "source": [
        "# Finding Numerical Fluxes for DG\n",
        "\n",
        "Copyright (C) 2020 Andreas Kloeckner\n",
        "\n",
        "<details>\n",
        "<summary>MIT License</summary>\n",
        "Permission is hereby granted, free of charge, to any person obtaining a copy\n",
        "of this software and associated documentation files (the \"Software\"), to deal\n",
        "in the Software without restriction, including without limitation the rights\n",
        "to use, copy, modify, merge, publish, distribute, sublicense, and/or sell\n",
        "copies of the Software, and to permit persons to whom the Software is\n",
        "furnished to do so, subject to the following conditions:\n",
        "\n",
        "The above copyright notice and this permission notice shall be included in\n",
        "all copies or substantial portions of the Software.\n",
        "\n",
        "THE SOFTWARE IS PROVIDED \"AS IS\", WITHOUT WARRANTY OF ANY KIND, EXPRESS OR\n",
        "IMPLIED, INCLUDING BUT NOT LIMITED TO THE WARRANTIES OF MERCHANTABILITY,\n",
        "FITNESS FOR A PARTICULAR PURPOSE AND NONINFRINGEMENT. IN NO EVENT SHALL THE\n",
        "AUTHORS OR COPYRIGHT HOLDERS BE LIABLE FOR ANY CLAIM, DAMAGES OR OTHER\n",
        "LIABILITY, WHETHER IN AN ACTION OF CONTRACT, TORT OR OTHERWISE, ARISING FROM,\n",
        "OUT OF OR IN CONNECTION WITH THE SOFTWARE OR THE USE OR OTHER DEALINGS IN\n",
        "THE SOFTWARE.\n",
        "</details>\n",
        "\n",
        "----\n",
        "NB: This note book uses the [Maxima-Jupyter kernel](https://github.com/robert-dodier/maxima-jupyter) to interface with [Maxima](http://maxima.sourceforge.net/), an open-source computer algebra system. I have found that the [Docker image](https://hub.docker.com/r/calyau/maxima-jupyter) is a fairly convenient way of using this kernel.\n",
        "\n",
        "Some Maxima version info for reproducibility:"
      ]
    },
    {
      "cell_type": "code",
      "execution_count": 106,
      "metadata": {},
      "outputs": [],
      "source": [
        "build_info();"
      ]
    },
    {
      "cell_type": "markdown",
      "metadata": {},
      "source": [
        "Load some packages:"
      ]
    },
    {
      "cell_type": "code",
      "execution_count": 88,
      "metadata": {},
      "outputs": [],
      "source": [
        "kill(all);\n",
        "load(\"itensor\");\n",
        "\n",
        "assert(condition):=if not condition then error(\"Assertion violated\") else true$\n",
        "\n",
        "norm_2_squared(v):=v.v;\n",
        "\n",
        "crossfunc(f):=makelist(\n",
        "  sum(sum(\n",
        "      levi_civita([i,j,k])*f(j,k),\n",
        "   j,1,3),k,1,3),i,1,3)$\n",
        "\n",
        "crossprod(a,b):=crossfunc(lambda([j,k], a[j]*b[k]));"
      ]
    },
    {
      "cell_type": "markdown",
      "metadata": {},
      "source": [
        "## Simplification Utilities\n",
        "\n",
        "These function simplify expressions coming from the (symbolic) simultaneous diagonalization, by letting Maxima realize that $n \\cdot n =1$."
      ]
    },
    {
      "cell_type": "code",
      "execution_count": 89,
      "metadata": {},
      "outputs": [],
      "source": [
        "/* ------------------------------------------------------------------------- */\n",
        "/* Simplification for expressions stemming from hyperbolic systems */\n",
        "/* ------------------------------------------------------------------------- */\n",
        "\n",
        "hypsimp(x):=ratsimp(ratsubst(1,n.n,x))$\n",
        "\n",
        "fullhypsimp(x):=hypsimp(\n",
        "  ratsubst(\n",
        "    last(n)^2,\n",
        "    1-sum(n[i]^2,i,1,length(n)-1),\n",
        "    x)\n",
        "  )$\n",
        "  \n",
        "/* ------------------------------------------------------------------------- */\n",
        "/* diagonalize a given hyperbolic operator A */\n",
        "/* ------------------------------------------------------------------------- */\n",
        "\n",
        "hypdiagonalize(A):=block([evA, V, invV,D],\n",
        "  evA:hypsimp(apply(append, eigenvectors(A)[2])),\n",
        "  V:transpose(apply(matrix, evA)),\n",
        "  invV:hypsimp(invert(V)),\n",
        "  assert(hypsimp(V.invV)=ident(length(A))),\n",
        "  D:hypsimp(invV.A.V),\n",
        "  [V, D, invV])$"
      ]
    },
    {
      "cell_type": "markdown",
      "metadata": {},
      "source": [
        "## Wave Equation"
      ]
    },
    {
      "cell_type": "code",
      "execution_count": 90,
      "metadata": {},
      "outputs": [],
      "source": [
        "/* redefine this to change dimensionality: */\n",
        "n:[nx,ny]; "
      ]
    },
    {
      "cell_type": "code",
      "execution_count": 91,
      "metadata": {},
      "outputs": [],
      "source": [
        "dims:length(n);\n",
        "\n",
        "assume(c>0);\n",
        "\n",
        "if dims = 1 then n:[1];\n"
      ]
    },
    {
      "cell_type": "markdown",
      "metadata": {},
      "source": [
        "Define the flux jacobian for the first-order form of the wave-equation:\n",
        "\n",
        "$$\n",
        "\\begin{align*}\n",
        "\\partial_t u &= \\nabla \\cdot \\boldsymbol v\\\\\n",
        "\\partial_t \\boldsymbol v &= \\nabla u\n",
        "\\end{align*}\n",
        "$$\n",
        "projected onto a line with normal `n`:"
      ]
    },
    {
      "cell_type": "code",
      "execution_count": 92,
      "metadata": {},
      "outputs": [],
      "source": [
        "esymmatrix(n, v, i,j):=ematrix(n,n,v,i,j)+ematrix(n,n,v,j,i);\n",
        "wave_A:sum(n[i]*esymmatrix(dims+1, -c, 1+i,1),i,1,dims);"
      ]
    },
    {
      "cell_type": "markdown",
      "metadata": {},
      "source": [
        "Find the eigenvalues of the flux Jacobian:"
      ]
    },
    {
      "cell_type": "code",
      "execution_count": 93,
      "metadata": {},
      "outputs": [],
      "source": [
        "[wave_V, wave_D, wave_invV]:hypdiagonalize(wave_A);"
      ]
    },
    {
      "cell_type": "markdown",
      "metadata": {},
      "source": [
        "### Finding the Numerical Flux\n",
        "\n",
        "This function sets up a system of Rankine-Hugoniot conditions across the flux fan and solves for the stagnation state:"
      ]
    },
    {
      "cell_type": "code",
      "execution_count": 94,
      "metadata": {},
      "outputs": [],
      "source": [
        "/* ------------------------------------------------------------------------- */\n",
        "/* compute upwind flux for a given operator with eigenvalues evs, sorted\n",
        " * in ascending order.\n",
        " * Sign assumptions for all variables occuring in evs must be in place.\n",
        " */\n",
        "/* ------------------------------------------------------------------------- */\n",
        "hyp_upwind_flux(evs, D):=block([evvars, Dp, Dm, n, midstates, states, unknowns],\n",
        "  evvars:listofvars(evs),\n",
        "\n",
        "  add_evvars_suffix(suffix, x):=subst(makelist(v=concat(''v, suffix), v, evvars), x),\n",
        "\n",
        "  evsm:add_evvars_suffix(m, evs),\n",
        "  evsp:add_evvars_suffix(p, evs),\n",
        "\n",
        "  Dm:add_evvars_suffix(m, D),\n",
        "  Dp:add_evvars_suffix(p, D),\n",
        "\n",
        "  midstates:makelist(makelist(concat(s,state,i), i, 1, length(D)),\n",
        "      state, 1, length(evs)-1),\n",
        "\n",
        "  states:append(\n",
        "    [makelist(concat(sm, i), i, 1, length(D))],\n",
        "    midstates,\n",
        "    [makelist(concat(sp,i), i, 1, length(D))]),\n",
        "\n",
        "  unknowns:apply(append, midstates),\n",
        "\n",
        "  result:if member(0, evs) then\n",
        "    block([biasedD, veceqns, eqns, soln],\n",
        "      biasedD:makelist(\n",
        "        if evs[i] = 0 then [Dp,Dm]\n",
        "        else if evs[i] > 0 then [Dp,Dp]\n",
        "        else [Dm,Dm],\n",
        "        i, 1, length(evs)),\n",
        "\n",
        "      veceqns:apply(append, makelist(\n",
        "        -(if evs[i] > 0 then evsp[i] else evsm[i]) *(states[i+1]-states[i])\n",
        "        +(biasedD[i][1].states[i+1]-biasedD[i][2].states[i]),\n",
        "        i,1,length(evs))),\n",
        "\n",
        "      eqns:makelist(veceqns[i,1], i, 1, length(veceqns)),\n",
        "\n",
        "      soln:solve(eqns, unknowns),\n",
        "      assert(length(soln)=1),\n",
        "\n",
        "      for i: 1 thru length(evs) do\n",
        "        if evs[i] = 0 then return(Dp.subst(soln[1], midstates[i]))\n",
        "    )\n",
        "  else\n",
        "    block([straddle_idx, Dstates, veceqns, eqns, soln],\n",
        "      straddle_idx:for i: 1 thru length(evs)-1 do\n",
        "        if (evs[i] < 0) and (evs[i+1] > 0) then return(i),\n",
        "\n",
        "      flux:makelist(concat(flux,i),i,1,length(D)),\n",
        "\n",
        "      unknowns:append(unknowns, flux),\n",
        "\n",
        "      Dstates:append(\n",
        "        [Dm.first(states)],\n",
        "        makelist(\n",
        "          if i = straddle_idx then flux\n",
        "          else if evs[i] > 0 then Dp.midstates[i]\n",
        "          else Dm.midstates[i],\n",
        "          i, 1, length(midstates)),\n",
        "        [Dp.last(states)]),\n",
        "\n",
        "      veceqns:apply(append, makelist(\n",
        "        -(if evs[i] > 0 then evsp[i] else evsm[i]) *(states[i+1]-states[i])\n",
        "        +(Dstates[i+1]-Dstates[i]),\n",
        "        i,1,length(evs))),\n",
        "\n",
        "      eqns:makelist(veceqns[i,1], i, 1, length(veceqns)),\n",
        "\n",
        "      print(covect(eqns)),\n",
        "      soln:solve(eqns, unknowns),\n",
        "      assert(length(soln)=1),\n",
        "\n",
        "      subst(soln[1], flux)\n",
        "    ),\n",
        "  subst(\n",
        "    append(\n",
        "      makelist(concat(sm, i)=sm[i,1], i, 1, length(D)),\n",
        "      makelist(concat(sp, i)=sp[i,1], i, 1, length(D))\n",
        "      ),\n",
        "    result)\n",
        "  )$"
      ]
    },
    {
      "cell_type": "markdown",
      "metadata": {},
      "source": [
        "Find an expression for the flux in characteristic variables.\n",
        "\n",
        "Note the `p` and `m` suffixes for the $+$ and $-$ sides of the interface."
      ]
    },
    {
      "cell_type": "code",
      "execution_count": 95,
      "metadata": {},
      "outputs": [],
      "source": [
        "wave_eigenvalues:makelist(wave_D[i,i], i, 1, length(wave_D));\n",
        "\n",
        "if member(0, wave_eigenvalues) then\n",
        "  wave_sflux:hyp_upwind_flux([-c,0,c], wave_D)\n",
        "else\n",
        "  wave_sflux:hyp_upwind_flux([-c,c], wave_D);\n"
      ]
    },
    {
      "cell_type": "markdown",
      "metadata": {},
      "source": [
        "Convert back to conserved variables:"
      ]
    },
    {
      "cell_type": "code",
      "execution_count": 96,
      "metadata": {},
      "outputs": [],
      "source": [
        "wave_wflux:ratsimp(wave_V.ev(wave_sflux, [sm=wave_sminw,sp=wave_spinw]));"
      ]
    },
    {
      "cell_type": "markdown",
      "metadata": {},
      "source": [
        "## Maxwell's Equations\n",
        "\n",
        "First, set up some parameter assumptions:"
      ]
    },
    {
      "cell_type": "code",
      "execution_count": 97,
      "metadata": {},
      "outputs": [],
      "source": [
        "assume(c>0);\n",
        "assume(mu>0);\n",
        "assume(epsilon>0);\n",
        "assume(epsinv>0);\n",
        "assume(muinv>0);"
      ]
    },
    {
      "cell_type": "markdown",
      "metadata": {},
      "source": [
        "Some helper functions for matrix creation:"
      ]
    },
    {
      "cell_type": "code",
      "execution_count": 98,
      "metadata": {},
      "outputs": [],
      "source": [
        "/* A hyperbolic system matrix resulting from a curl */\n",
        "curlmat(coord):=genmatrix(\n",
        "  lambda ([i,j], levi_civita([coord,j,i])),\n",
        "  3,3)$\n",
        "\n",
        "vstack:append$\n",
        "\n",
        "hstack(a,b):=transpose(append(transpose(a),transpose(b)))$\n",
        "\n",
        "blockmat(a11,a12,a21,a22):=vstack(hstack(a11,a12),hstack(a21,a22))$"
      ]
    },
    {
      "cell_type": "code",
      "execution_count": 99,
      "metadata": {},
      "outputs": [],
      "source": [
        "n:[nx,ny,nz];"
      ]
    },
    {
      "cell_type": "markdown",
      "metadata": {},
      "source": [
        "Next, write down the flux Jacobian on a line with normal `n`:"
      ]
    },
    {
      "cell_type": "code",
      "execution_count": 100,
      "metadata": {
        "scrolled": true
      },
      "outputs": [],
      "source": [
        "max_submat(i):=blockmat(\n",
        "  zeromatrix(3,3),\n",
        "  -epsinv*curlmat(i), /* epsinv = 1/epsilon */\n",
        "  muinv*curlmat(i), /* muinv = 1/mu */\n",
        "  zeromatrix(3,3)\n",
        "  )$\n",
        "\n",
        "max_Asimp:sum(n[i]*max_submat(i),i,1,3);\n",
        "max_A:subst([epsinv=1/epsilon,muinv=1/mu], max_Asimp);"
      ]
    },
    {
      "cell_type": "markdown",
      "metadata": {},
      "source": [
        "Next, diagonalize to obtain the transformation to/from characteristic variables:"
      ]
    },
    {
      "cell_type": "code",
      "execution_count": 101,
      "metadata": {},
      "outputs": [],
      "source": [
        "max_invsubst(x):=subst([epsinv=1/epsilon, muinv=1/mu], x)$\n",
        "\n",
        "[max_V, max_D, max_invV]:max_invsubst(hypdiagonalize(max_Asimp));"
      ]
    },
    {
      "cell_type": "markdown",
      "metadata": {},
      "source": [
        "Now find the flux in characteristic variables:"
      ]
    },
    {
      "cell_type": "code",
      "execution_count": 102,
      "metadata": {},
      "outputs": [],
      "source": [
        "max_Dinc:subst([1/(sqrt(epsilon)*sqrt(mu))=c], max_D);\n",
        "max_sflux:hyp_upwind_flux([-c,0,c], max_Dinc);\n",
        "\n",
        "/* FIXME: max_V should not depend on epsilon and mu, but it does \n",
        "   For now, make cp and cm equal. */\n",
        "\n",
        "max_sflux:subst(\n",
        "  [cp=1/(sqrt(epsilon)*sqrt(mu)), cm=1/(sqrt(epsilon)*sqrt(mu))], \n",
        "  max_sflux);"
      ]
    },
    {
      "cell_type": "markdown",
      "metadata": {},
      "source": [
        "And in conserved variables:"
      ]
    },
    {
      "cell_type": "code",
      "execution_count": 103,
      "metadata": {},
      "outputs": [],
      "source": [
        "max_Em:makelist(Em[i],i,1,3)$\n",
        "max_Ep:makelist(Ep[i],i,1,3)$\n",
        "max_Hm:makelist(Hm[i],i,1,3)$\n",
        "max_Hp:makelist(Hp[i],i,1,3)$\n",
        "max_wm:vstack(max_Em,max_Hm)$\n",
        "max_wp:vstack(max_Ep,max_Hp)$\n",
        "\n",
        "max_sminw:hypsimp(max_invV.max_wm)$\n",
        "max_spinw:hypsimp(max_invV.max_wp)$\n",
        "\n",
        "max_wflux:fullhypsimp(max_V.ev(max_sflux, [sm=max_sminw,sp=max_spinw]));"
      ]
    },
    {
      "cell_type": "code",
      "execution_count": 104,
      "metadata": {},
      "outputs": [],
      "source": [
        "max_stronglocalpart:max_A.max_wm;\n",
        "\n",
        "max_strongwflux:max_stronglocalpart-max_wflux;"
      ]
    },
    {
      "cell_type": "markdown",
      "metadata": {},
      "source": [
        "Check against value from [the literature](https://doi.org/10.1016/0010-4655(91)90199-U):"
      ]
    },
    {
      "cell_type": "code",
      "execution_count": 105,
      "metadata": {},
      "outputs": [],
      "source": [
        "max_Z:sqrt(mu/epsilon)$\n",
        "max_Y:sqrt(epsilon/mu)$\n",
        "\n",
        "max_knownstrongwflux:ratsimp(vstack(\n",
        "  -1/(2*epsilon)\n",
        "  *(crossprod(n,(max_Hm-max_Hp)-1/max_Z*crossprod(n,max_Em-max_Ep))),\n",
        "  1/(2*mu)\n",
        "  *(crossprod(n,(max_Em-max_Ep)+1/max_Y*crossprod(n,max_Hm-max_Hp)))\n",
        "  ));\n",
        "\n",
        "assert(norm_2_squared(hypsimp(\n",
        "  (max_strongwflux)\n",
        "  -max_knownstrongwflux))=0);"
      ]
    },
    {
      "cell_type": "code",
      "execution_count": null,
      "metadata": {},
      "outputs": [],
      "source": []
    }
  ],
  "metadata": {
    "kernelspec": {
      "display_name": "Maxima",
      "language": "maxima",
      "name": "maxima"
    },
    "language_info": {
      "codemirror_mode": "maxima",
      "file_extension": ".mac",
      "mimetype": "text/x-maxima",
      "name": "maxima",
      "pygments_lexer": "maxima",
      "version": "branch_5_43_base_483_gaee1ba385"
    }
  },
  "nbformat": 4,
  "nbformat_minor": 4
}