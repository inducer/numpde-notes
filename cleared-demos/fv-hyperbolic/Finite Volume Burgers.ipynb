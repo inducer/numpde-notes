{
  "cells": [
    {
      "cell_type": "markdown",
      "metadata": {},
      "source": [
        "# Finite Volume Burgers\n",
        "\n",
        "Copyright (C) 2010-2020 Luke Olson<br>\n",
        "Copyright (C) 2020 Andreas Kloeckner\n",
        "\n",
        "<details>\n",
        "<summary>MIT License</summary>\n",
        "Permission is hereby granted, free of charge, to any person obtaining a copy\n",
        "of this software and associated documentation files (the \"Software\"), to deal\n",
        "in the Software without restriction, including without limitation the rights\n",
        "to use, copy, modify, merge, publish, distribute, sublicense, and/or sell\n",
        "copies of the Software, and to permit persons to whom the Software is\n",
        "furnished to do so, subject to the following conditions:\n",
        "\n",
        "The above copyright notice and this permission notice shall be included in\n",
        "all copies or substantial portions of the Software.\n",
        "\n",
        "THE SOFTWARE IS PROVIDED \"AS IS\", WITHOUT WARRANTY OF ANY KIND, EXPRESS OR\n",
        "IMPLIED, INCLUDING BUT NOT LIMITED TO THE WARRANTIES OF MERCHANTABILITY,\n",
        "FITNESS FOR A PARTICULAR PURPOSE AND NONINFRINGEMENT. IN NO EVENT SHALL THE\n",
        "AUTHORS OR COPYRIGHT HOLDERS BE LIABLE FOR ANY CLAIM, DAMAGES OR OTHER\n",
        "LIABILITY, WHETHER IN AN ACTION OF CONTRACT, TORT OR OTHERWISE, ARISING FROM,\n",
        "OUT OF OR IN CONNECTION WITH THE SOFTWARE OR THE USE OR OTHER DEALINGS IN\n",
        "THE SOFTWARE.\n",
        "</details>"
      ]
    },
    {
      "cell_type": "code",
      "execution_count": 2,
      "metadata": {},
      "outputs": [],
      "source": [
        "import numpy as np\n",
        "import scipy as sp\n",
        "import matplotlib.pyplot as plt\n",
        "\n",
        "from matplotlib import animation\n",
        "from IPython.display import HTML"
      ]
    },
    {
      "cell_type": "code",
      "execution_count": 3,
      "metadata": {},
      "outputs": [],
      "source": [
        "def gaussian(x):\n",
        "    u = np.exp(-100 * (x - 0.25)**2)\n",
        "    return u\n",
        "\n",
        "\n",
        "def step(x):\n",
        "    u = np.zeros(x.shape)\n",
        "    for j in range(len(x)):\n",
        "        if (x[j] >= 0.6) and (x[j] <= 0.8):\n",
        "            u[j] = 1.0\n",
        "\n",
        "    return u\n",
        "\n",
        "def g1(x):\n",
        "    return 1+gaussian(x)\n",
        "\n",
        "def g2(x):\n",
        "    return 1+gaussian(x) + step(x)\n",
        "\n",
        "g = g1"
      ]
    },
    {
      "cell_type": "code",
      "execution_count": 4,
      "metadata": {},
      "outputs": [],
      "source": [
        "nx = 164\n",
        "x = np.linspace(0, 1, nx, endpoint=False)\n",
        "dx = x[1] - x[0]\n",
        "xx = np.linspace(0, 1, 1000, endpoint=False)\n",
        "\n",
        "lmbda = 0.95\n",
        "nt = 250\n",
        "print('tsteps = %d' % nt)\n",
        "print('    dx = %g' % dx)\n",
        "print('lambda = %g' % lmbda)\n",
        "\n",
        "J = np.arange(0, nx)  # all vertices\n",
        "Jm1 = np.roll(J, 1)\n",
        "Jp1 = np.roll(J, -1)\n",
        "\n",
        "plt.plot(x, g(x))"
      ]
    },
    {
      "cell_type": "markdown",
      "metadata": {},
      "source": [
        "Plot the solution:"
      ]
    },
    {
      "cell_type": "code",
      "execution_count": 5,
      "metadata": {},
      "outputs": [],
      "source": [
        "if 1:\n",
        "    # Burgers\n",
        "    def f(u):\n",
        "        return u**2/2\n",
        "    def fprime(u):\n",
        "        return u\n",
        "else:\n",
        "    # advection\n",
        "    def f(u):\n",
        "        return u\n",
        "    def fprime(u):\n",
        "        return 1+0*u\n",
        "\n",
        "steps_per_frame = 2"
      ]
    },
    {
      "cell_type": "markdown",
      "metadata": {},
      "source": [
        "## Part I: Lax-Friedrichs\n",
        "\n",
        "Implement `rhs` for a Lax-Friedrichs flux:\n",
        "\n",
        "Recall (local) Lax-Friedrichs:\n",
        "$$\n",
        "f^{\\ast} (u^{_-}, u^+) = \\frac{f (u^-) + f (u^+)}{2} - \\frac{\\alpha}{2} (u^+ - u^-) \n",
        "\\quad\\text{with}\\quad\n",
        "\\alpha = \\max \\left( |f' (u^-)|, |f' (u^+)| \\right).$$\n",
        "Recall FV:\n",
        "$$ \\bar{u}_{j,\\ell+1} = \\bar{u}_{j,\\ell} - \\frac{h_t}{h_x} (f (u_{j + 1 / 2,\\ell}) -\n",
        "   f (u_{j - 1 / 2,\\ell})) . $$\n"
      ]
    },
    {
      "cell_type": "code",
      "execution_count": 6,
      "metadata": {},
      "outputs": [],
      "source": []
    },
    {
      "cell_type": "code",
      "execution_count": 7,
      "metadata": {},
      "outputs": [],
      "source": [
        "u = g(x)\n",
        "\n",
        "def timestepper(n):\n",
        "    for i in range(steps_per_frame):\n",
        "        dt = dx*lmbda/np.max(fprime(np.abs(u)))\n",
        "        u[:] = u + dt*rhs(u)\n",
        "                       \n",
        "    line.set_data(x, u)\n",
        "    return line\n",
        "\n",
        "fig = plt.figure(figsize=(5,5))\n",
        "line, = plt.plot(x, u)\n",
        "\n",
        "ani = animation.FuncAnimation(\n",
        "    fig, timestepper,\n",
        "    frames=nt//steps_per_frame,\n",
        "    interval=30)\n",
        "html = HTML(ani.to_jshtml())\n",
        "plt.clf()\n",
        "html"
      ]
    },
    {
      "cell_type": "markdown",
      "metadata": {},
      "source": [
        "## Part II: Second-Order Reconstruction\n",
        "\n",
        "First, need a second-order time integrator:"
      ]
    },
    {
      "cell_type": "code",
      "execution_count": 8,
      "metadata": {},
      "outputs": [],
      "source": [
        "def rk2_step(dt, u, rhs):\n",
        "    k1 = rhs(u)\n",
        "    k2 = rhs(u+dt*k1)\n",
        "    return u+0.5*dt*(k1+k2)"
      ]
    },
    {
      "cell_type": "markdown",
      "metadata": {},
      "source": [
        "Now upgrade the reconstruction to second order. \n",
        "\n",
        "**NOTE:** It's OK to assume (here!) that the wind blows from the left (/to the right) to simplify upwinding."
      ]
    },
    {
      "cell_type": "code",
      "execution_count": 9,
      "metadata": {},
      "outputs": [],
      "source": []
    },
    {
      "cell_type": "code",
      "execution_count": 10,
      "metadata": {},
      "outputs": [],
      "source": [
        "u = g(x)\n",
        "\n",
        "def timestepper(n):\n",
        "    # to simplify upwinding\n",
        "    assert np.min(u) >= 0\n",
        "    \n",
        "    for i in range(steps_per_frame):\n",
        "        dt = 0.7*dx*lmbda/np.max(fprime(np.abs(u)))\n",
        "        u[:] = rk2_step(dt, u, rhs)\n",
        "                       \n",
        "    line.set_data(x, u)\n",
        "    return line\n",
        "\n",
        "fig = plt.figure(figsize=(5,5))\n",
        "line, = plt.plot(x, u)\n",
        "\n",
        "ani = animation.FuncAnimation(\n",
        "    fig, timestepper,\n",
        "    frames=nt//steps_per_frame,\n",
        "    interval=30)\n",
        "html = HTML(ani.to_jshtml())\n",
        "plt.clf()\n",
        "html"
      ]
    },
    {
      "cell_type": "code",
      "execution_count": null,
      "metadata": {},
      "outputs": [],
      "source": []
    }
  ],
  "metadata": {
    "kernelspec": {
      "display_name": "Python 3 (ipykernel)",
      "language": "python",
      "name": "python3"
    },
    "language_info": {
      "codemirror_mode": {
        "name": "ipython",
        "version": 3
      },
      "file_extension": ".py",
      "mimetype": "text/x-python",
      "name": "python",
      "nbconvert_exporter": "python",
      "pygments_lexer": "ipython3",
      "version": "3.10.4"
    }
  },
  "nbformat": 4,
  "nbformat_minor": 4
}