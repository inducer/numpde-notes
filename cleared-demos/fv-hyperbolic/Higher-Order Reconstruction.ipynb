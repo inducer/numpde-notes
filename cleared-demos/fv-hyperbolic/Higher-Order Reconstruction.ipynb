{
  "cells": [
    {
      "cell_type": "markdown",
      "id": "02fbe96e-b819-40fb-88a9-e1c344bf3877",
      "metadata": {},
      "source": [
        "# Higher-Order Reconstruction\n",
        "\n",
        "Copyright (C) 2022 Andreas Kloeckner\n",
        "\n",
        "<details>\n",
        "<summary>MIT License</summary>\n",
        "Permission is hereby granted, free of charge, to any person obtaining a copy\n",
        "of this software and associated documentation files (the \"Software\"), to deal\n",
        "in the Software without restriction, including without limitation the rights\n",
        "to use, copy, modify, merge, publish, distribute, sublicense, and/or sell\n",
        "copies of the Software, and to permit persons to whom the Software is\n",
        "furnished to do so, subject to the following conditions:\n",
        "\n",
        "The above copyright notice and this permission notice shall be included in\n",
        "all copies or substantial portions of the Software.\n",
        "\n",
        "THE SOFTWARE IS PROVIDED \"AS IS\", WITHOUT WARRANTY OF ANY KIND, EXPRESS OR\n",
        "IMPLIED, INCLUDING BUT NOT LIMITED TO THE WARRANTIES OF MERCHANTABILITY,\n",
        "FITNESS FOR A PARTICULAR PURPOSE AND NONINFRINGEMENT. IN NO EVENT SHALL THE\n",
        "AUTHORS OR COPYRIGHT HOLDERS BE LIABLE FOR ANY CLAIM, DAMAGES OR OTHER\n",
        "LIABILITY, WHETHER IN AN ACTION OF CONTRACT, TORT OR OTHERWISE, ARISING FROM,\n",
        "OUT OF OR IN CONNECTION WITH THE SOFTWARE OR THE USE OR OTHER DEALINGS IN\n",
        "THE SOFTWARE.\n",
        "</details>"
      ]
    },
    {
      "cell_type": "code",
      "execution_count": 2,
      "id": "a0ae13f7-ca86-406e-860f-e66683639474",
      "metadata": {},
      "outputs": [],
      "source": [
        "import sympy as sp"
      ]
    },
    {
      "cell_type": "code",
      "execution_count": 4,
      "id": "22232131-30db-4170-bd8d-1384ba208406",
      "metadata": {},
      "outputs": [],
      "source": [
        "x, h, a, b, c, d = sp.symbols(\"x, h, a, b, c, d\")\n",
        "\n",
        "ubarj, ubarjm1, ubarjp1 = sp.symbols(\"ubarj, ubarjm1, ubarjp1\")"
      ]
    },
    {
      "cell_type": "markdown",
      "id": "15870733-1901-4554-ac40-2b985247024f",
      "metadata": {},
      "source": [
        "Set `u` to a generic polynomial in terms of unknown coefficients `a`, `b`, `c`, ... of the right degree for our reconstruction:"
      ]
    },
    {
      "cell_type": "code",
      "execution_count": 6,
      "id": "6b580f0c-2614-464d-8835-f191fa9a8cc7",
      "metadata": {},
      "outputs": [],
      "source": []
    },
    {
      "cell_type": "markdown",
      "id": "6fee494b-1cf9-4c66-a60b-8cbe3cb895ec",
      "metadata": {},
      "source": [
        "For simplicity, assume that cell $j$ is the interval $(-h/2, h/2)$, cell $j+1$ is the interval $(h/2,3h/2)$ and so on. Compute the (symbolic) cell averages for cells $j$, $j+1$ and $j-1$, assigning the symbolic values to `uavgj`, `uavgjm1` and `uavgjp1`.\n",
        "\n",
        "To compute integrals: `sp.integrate(u, (x, left, right))`"
      ]
    },
    {
      "cell_type": "code",
      "execution_count": 8,
      "id": "0e911851-4681-4de4-ab9e-dc09436333c6",
      "metadata": {},
      "outputs": [],
      "source": []
    },
    {
      "cell_type": "markdown",
      "id": "b49300a1-410b-4f9c-aa7b-593e09805bb9",
      "metadata": {},
      "source": [
        "## Centered Reconstruction\n",
        "\n",
        "Find the coefficients for centered reconstruction, i.e. finding the coefficients in `u` from $\\bar u_j$ and $\\bar u_{j+1}$:\n",
        "\n",
        "Use `sp.solve([f1, f2], [unknown1, unknown2])`."
      ]
    },
    {
      "cell_type": "code",
      "execution_count": 10,
      "id": "66e8473c-4304-47ce-b935-74e93c4d7d42",
      "metadata": {},
      "outputs": [],
      "source": []
    },
    {
      "cell_type": "markdown",
      "id": "98e18720-dbcf-48d1-a39c-da7058a40093",
      "metadata": {},
      "source": [
        "Find the reconstructed `u` in terms of the cell averages:\n",
        "\n",
        "Use `u.subs({var: value})`."
      ]
    },
    {
      "cell_type": "code",
      "execution_count": 11,
      "id": "ca29c5dc-9e98-4620-b0c9-ee4eb8e85259",
      "metadata": {},
      "outputs": [],
      "source": []
    },
    {
      "cell_type": "markdown",
      "id": "30aa7319-7cbc-461c-9c1d-9f62aee8d811",
      "metadata": {},
      "source": [
        "Evaluate the reconstructed `u` at the cell interface:"
      ]
    },
    {
      "cell_type": "code",
      "execution_count": 12,
      "id": "2b19872e-fdba-4f1a-a909-6bf180703727",
      "metadata": {},
      "outputs": [],
      "source": []
    },
    {
      "cell_type": "markdown",
      "id": "79c3a18a-10e5-404d-ab4b-dbe13bf25f1a",
      "metadata": {},
      "source": [
        "## Upwind Reconstructions\n",
        "\n",
        "Perform the same process for upwind reconstruction, i.e. finding the coefficients in `u` from $\\bar u_j$ and $\\bar u_{j-1}$:"
      ]
    },
    {
      "cell_type": "code",
      "execution_count": 13,
      "id": "7189decc-4cd0-4781-b40b-ff36c2f93d91",
      "metadata": {},
      "outputs": [],
      "source": []
    },
    {
      "cell_type": "code",
      "execution_count": null,
      "id": "01914dbe-0c76-4cbe-8a45-6df3729bf58c",
      "metadata": {},
      "outputs": [],
      "source": []
    }
  ],
  "metadata": {
    "kernelspec": {
      "display_name": "Python 3 (ipykernel)",
      "language": "python",
      "name": "python3"
    },
    "language_info": {
      "codemirror_mode": {
        "name": "ipython",
        "version": 3
      },
      "file_extension": ".py",
      "mimetype": "text/x-python",
      "name": "python",
      "nbconvert_exporter": "python",
      "pygments_lexer": "ipython3",
      "version": "3.10.4"
    }
  },
  "nbformat": 4,
  "nbformat_minor": 5
}