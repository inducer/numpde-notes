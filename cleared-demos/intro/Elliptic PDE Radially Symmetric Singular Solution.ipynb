{
  "cells": [
    {
      "cell_type": "markdown",
      "metadata": {},
      "source": [
        "# Elliptic PDE: Radially Symmetric Singular Solution\n",
        "Copyright (C) 2010-2020 Luke Olson<br>\n",
        "Copyright (C) 2020 Andreas Kloeckner\n",
        "\n",
        "<details>\n",
        "<summary>MIT License</summary>\n",
        "Permission is hereby granted, free of charge, to any person obtaining a copy\n",
        "of this software and associated documentation files (the \"Software\"), to deal\n",
        "in the Software without restriction, including without limitation the rights\n",
        "to use, copy, modify, merge, publish, distribute, sublicense, and/or sell\n",
        "copies of the Software, and to permit persons to whom the Software is\n",
        "furnished to do so, subject to the following conditions:\n",
        "\n",
        "The above copyright notice and this permission notice shall be included in\n",
        "all copies or substantial portions of the Software.\n",
        "\n",
        "THE SOFTWARE IS PROVIDED \"AS IS\", WITHOUT WARRANTY OF ANY KIND, EXPRESS OR\n",
        "IMPLIED, INCLUDING BUT NOT LIMITED TO THE WARRANTIES OF MERCHANTABILITY,\n",
        "FITNESS FOR A PARTICULAR PURPOSE AND NONINFRINGEMENT. IN NO EVENT SHALL THE\n",
        "AUTHORS OR COPYRIGHT HOLDERS BE LIABLE FOR ANY CLAIM, DAMAGES OR OTHER\n",
        "LIABILITY, WHETHER IN AN ACTION OF CONTRACT, TORT OR OTHERWISE, ARISING FROM,\n",
        "OUT OF OR IN CONNECTION WITH THE SOFTWARE OR THE USE OR OTHER DEALINGS IN\n",
        "THE SOFTWARE.\n",
        "</details>\n",
        "\n",
        "-----\n",
        "\n",
        "Poisson Problem:\n",
        "<center> Given open domain $\\Omega \\subset \\mathbb{R}^2$ </center>  \n",
        "$$ -\\nabla \\cdot \\nabla u = f(x)\\quad \\text{in}\\, \\Omega $$\n",
        "$$ u = g(x)\\quad \\text{on}\\, \\partial\\Omega $$\n",
        "Let:\n",
        "$$ f(x) = \\delta(x) $$  \n",
        "$\\delta(x)$ is the Dirac delta function. This problem describes a unit charge at the origin."
      ]
    },
    {
      "cell_type": "markdown",
      "metadata": {},
      "source": [
        "## Solution\n",
        "\n",
        "Potential due to point charge:\n",
        "$$ u(x,y) = -\\frac{1}{2\\pi}\\ln(r) $$\n",
        "\n",
        "<center> $r = \\sqrt{x^2+y^2}$, the distance to the origin.</center>"
      ]
    },
    {
      "cell_type": "code",
      "execution_count": 18,
      "metadata": {},
      "outputs": [],
      "source": [
        "import numpy as np\n",
        "import matplotlib.pyplot as plt\n",
        "from mpl_toolkits.mplot3d import Axes3D\n",
        "from matplotlib import cm\n",
        "import math\n",
        "\n",
        "import sympy as sym\n",
        "sym.init_printing()"
      ]
    },
    {
      "cell_type": "markdown",
      "metadata": {},
      "source": [
        "## Set up Grid"
      ]
    },
    {
      "cell_type": "code",
      "execution_count": 19,
      "metadata": {},
      "outputs": [],
      "source": [
        "X = np.arange(-10, 10, 0.2)\n",
        "Y = np.arange(-10, 10, 0.2)\n",
        "X, Y = np.meshgrid(X, Y)"
      ]
    },
    {
      "cell_type": "markdown",
      "metadata": {},
      "source": [
        "## Solution"
      ]
    },
    {
      "cell_type": "code",
      "execution_count": 20,
      "metadata": {},
      "outputs": [],
      "source": [
        "r = np.sqrt(X**2 + Y**2)\n",
        "Z = -np.log(r)/(2*math.pi)"
      ]
    },
    {
      "cell_type": "markdown",
      "metadata": {},
      "source": [
        "## Check Symbolically"
      ]
    },
    {
      "cell_type": "code",
      "execution_count": 21,
      "metadata": {},
      "outputs": [],
      "source": [
        "sx = sym.Symbol(\"x\")\n",
        "sy = sym.Symbol(\"y\")\n",
        "sr = sym.sqrt(sx**2 + sy**2)\n",
        "ssol = sym.log(sr)\n",
        "\n",
        "sym.simplify(sym.diff(ssol, sx, 2) + sym.diff(ssol, sy, 2))"
      ]
    },
    {
      "cell_type": "markdown",
      "metadata": {},
      "source": [
        "## Plot"
      ]
    },
    {
      "cell_type": "code",
      "execution_count": 23,
      "metadata": {
        "collapsed": false,
        "jupyter": {
          "outputs_hidden": false
        }
      },
      "outputs": [],
      "source": [
        "fig = plt.figure(figsize=(8, 6))\n",
        "ax = fig.add_subplot(111, projection='3d')\n",
        "#ax.plot_surface(X, Y, Z, rstride=1, cstride=1, cmap=cm.coolwarm,\n",
        "#                       linewidth=0, antialiased=False)\n",
        "ax.plot_wireframe(X, Y, Z, linewidth=0.2)\n",
        "#ax.set_zlim(-1.0, 1.0)\n",
        "#plt.show()\n"
      ]
    },
    {
      "cell_type": "markdown",
      "metadata": {},
      "source": [
        "Given $C\\log(r)$ as the *free-space Green's function*, can we construct the solution to the PDE with a more general $f$?"
      ]
    }
  ],
  "metadata": {
    "kernelspec": {
      "display_name": "Python 3",
      "language": "python",
      "name": "python3"
    },
    "language_info": {
      "codemirror_mode": {
        "name": "ipython",
        "version": 3
      },
      "file_extension": ".py",
      "mimetype": "text/x-python",
      "name": "python",
      "nbconvert_exporter": "python",
      "pygments_lexer": "ipython3",
      "version": "3.8.3"
    }
  },
  "nbformat": 4,
  "nbformat_minor": 4
}