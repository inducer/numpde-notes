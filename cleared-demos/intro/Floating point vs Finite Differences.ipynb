{
  "cells": [
    {
      "cell_type": "markdown",
      "metadata": {},
      "source": [
        "# Floating point vs Finite Differences\n",
        "\n",
        "Copyright (C) 2020 Andreas Kloeckner\n",
        "\n",
        "<details>\n",
        "<summary>MIT License</summary>\n",
        "Permission is hereby granted, free of charge, to any person obtaining a copy\n",
        "of this software and associated documentation files (the \"Software\"), to deal\n",
        "in the Software without restriction, including without limitation the rights\n",
        "to use, copy, modify, merge, publish, distribute, sublicense, and/or sell\n",
        "copies of the Software, and to permit persons to whom the Software is\n",
        "furnished to do so, subject to the following conditions:\n",
        "\n",
        "The above copyright notice and this permission notice shall be included in\n",
        "all copies or substantial portions of the Software.\n",
        "\n",
        "THE SOFTWARE IS PROVIDED \"AS IS\", WITHOUT WARRANTY OF ANY KIND, EXPRESS OR\n",
        "IMPLIED, INCLUDING BUT NOT LIMITED TO THE WARRANTIES OF MERCHANTABILITY,\n",
        "FITNESS FOR A PARTICULAR PURPOSE AND NONINFRINGEMENT. IN NO EVENT SHALL THE\n",
        "AUTHORS OR COPYRIGHT HOLDERS BE LIABLE FOR ANY CLAIM, DAMAGES OR OTHER\n",
        "LIABILITY, WHETHER IN AN ACTION OF CONTRACT, TORT OR OTHERWISE, ARISING FROM,\n",
        "OUT OF OR IN CONNECTION WITH THE SOFTWARE OR THE USE OR OTHER DEALINGS IN\n",
        "THE SOFTWARE.\n",
        "</details>"
      ]
    },
    {
      "cell_type": "code",
      "execution_count": 5,
      "metadata": {
        "collapsed": false,
        "jupyter": {
          "outputs_hidden": false
        }
      },
      "outputs": [],
      "source": [
        "import numpy as np\n",
        "import numpy.linalg as la\n",
        "import matplotlib.pyplot as pt"
      ]
    },
    {
      "cell_type": "markdown",
      "metadata": {},
      "source": [
        "Define a function and its derivative:"
      ]
    },
    {
      "cell_type": "code",
      "execution_count": 17,
      "metadata": {
        "collapsed": false,
        "jupyter": {
          "outputs_hidden": false
        }
      },
      "outputs": [],
      "source": [
        "c = 20*2*np.pi\n",
        "\n",
        "def f(x):\n",
        "    return np.sin(c*x)\n",
        "\n",
        "def df(x):\n",
        "    return c*np.cos(c*x)\n",
        "\n",
        "n = 2000\n",
        "x = np.linspace(0, 1, n, endpoint=False).astype(np.float32)\n",
        "\n",
        "pt.plot(x, f(x))"
      ]
    },
    {
      "cell_type": "markdown",
      "metadata": {},
      "source": [
        "Now compute the relative $l^\\infty$ norm of the error in the finite differences, for a bunch of mesh sizes:"
      ]
    },
    {
      "cell_type": "code",
      "execution_count": 16,
      "metadata": {
        "collapsed": false,
        "jupyter": {
          "outputs_hidden": false
        }
      },
      "outputs": [],
      "source": [
        "h_values = []\n",
        "err_values = []\n",
        "\n",
        "for n_exp in range(5, 24):\n",
        "    n = 2**n_exp\n",
        "    h = (1/n)\n",
        "\n",
        "    x = np.linspace(0, 1, n, endpoint=False).astype(np.float32)\n",
        "\n",
        "    fx = f(x)\n",
        "    dfx = df(x)\n",
        "\n",
        "    dfx_num = (np.roll(fx, -1) - np.roll(fx, 1)) / (2*h)\n",
        "\n",
        "    err = np.max(np.abs((dfx - dfx_num))) / np.max(np.abs(fx))\n",
        "\n",
        "    print(h, err)\n",
        "\n",
        "    h_values.append(h)\n",
        "    err_values.append(err)\n",
        "\n",
        "pt.rc(\"font\", size=16)\n",
        "pt.title(r\"Single precision FD error on $\\sin(20\\cdot 2\\pi)$\")\n",
        "pt.xlabel(r\"$h$\")\n",
        "pt.ylabel(r\"Rel. Error\")\n",
        "pt.loglog(h_values, err_values)"
      ]
    },
    {
      "cell_type": "code",
      "execution_count": 12,
      "metadata": {
        "collapsed": false,
        "jupyter": {
          "outputs_hidden": false
        }
      },
      "outputs": [],
      "source": []
    }
  ],
  "metadata": {
    "kernelspec": {
      "display_name": "Python 3",
      "language": "python",
      "name": "python3"
    },
    "language_info": {
      "codemirror_mode": {
        "name": "ipython",
        "version": 3
      },
      "file_extension": ".py",
      "mimetype": "text/x-python",
      "name": "python",
      "nbconvert_exporter": "python",
      "pygments_lexer": "ipython3",
      "version": "3.8.3"
    }
  },
  "nbformat": 4,
  "nbformat_minor": 4
}