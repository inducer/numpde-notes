{
  "cells": [
    {
      "cell_type": "markdown",
      "metadata": {},
      "source": [
        "# Hyperbolic PDE\n",
        "\n",
        "\n",
        "Copyright (C) 2010-2020 Luke Olson<br>\n",
        "Copyright (C) 2020 Andreas Kloeckner\n",
        "\n",
        "<details>\n",
        "<summary>MIT License</summary>\n",
        "Permission is hereby granted, free of charge, to any person obtaining a copy\n",
        "of this software and associated documentation files (the \"Software\"), to deal\n",
        "in the Software without restriction, including without limitation the rights\n",
        "to use, copy, modify, merge, publish, distribute, sublicense, and/or sell\n",
        "copies of the Software, and to permit persons to whom the Software is\n",
        "furnished to do so, subject to the following conditions:\n",
        "\n",
        "The above copyright notice and this permission notice shall be included in\n",
        "all copies or substantial portions of the Software.\n",
        "\n",
        "THE SOFTWARE IS PROVIDED \"AS IS\", WITHOUT WARRANTY OF ANY KIND, EXPRESS OR\n",
        "IMPLIED, INCLUDING BUT NOT LIMITED TO THE WARRANTIES OF MERCHANTABILITY,\n",
        "FITNESS FOR A PARTICULAR PURPOSE AND NONINFRINGEMENT. IN NO EVENT SHALL THE\n",
        "AUTHORS OR COPYRIGHT HOLDERS BE LIABLE FOR ANY CLAIM, DAMAGES OR OTHER\n",
        "LIABILITY, WHETHER IN AN ACTION OF CONTRACT, TORT OR OTHERWISE, ARISING FROM,\n",
        "OUT OF OR IN CONNECTION WITH THE SOFTWARE OR THE USE OR OTHER DEALINGS IN\n",
        "THE SOFTWARE.\n",
        "</details>\n",
        "\n",
        "-----\n",
        "\n",
        "One-way wave equation:\n",
        "$$ u_t + c u_x = 0$$\n",
        "$$ u(0,x) = f(x) \\quad \\text{on} \\, [0,1] $$\n",
        "<center>\n",
        "(Periodic boundary conditions)\n",
        "</center>"
      ]
    },
    {
      "cell_type": "markdown",
      "metadata": {},
      "source": [
        "## Solution\n",
        "\n",
        "$$ u(t,x) = f(x-ct) $$"
      ]
    },
    {
      "cell_type": "code",
      "execution_count": 26,
      "metadata": {},
      "outputs": [],
      "source": [
        "import numpy as np\n",
        "import scipy as sp\n",
        "import matplotlib.pyplot as plt"
      ]
    },
    {
      "cell_type": "markdown",
      "metadata": {},
      "source": [
        "## Step 2: Set up grid\n",
        "- `dx`: grid spacing in the $x$-direction  \n",
        "- `x`: grid coordinates  "
      ]
    },
    {
      "cell_type": "code",
      "execution_count": 27,
      "metadata": {
        "collapsed": false,
        "jupyter": {
          "outputs_hidden": false
        }
      },
      "outputs": [],
      "source": [
        "nx = 100\n",
        "x = np.linspace(0, 1, nx, endpoint=False)\n",
        "dx = x[1] - x[0]"
      ]
    },
    {
      "cell_type": "markdown",
      "metadata": {},
      "source": [
        "## Set time/speed parameters"
      ]
    },
    {
      "cell_type": "code",
      "execution_count": 33,
      "metadata": {
        "collapsed": false,
        "jupyter": {
          "outputs_hidden": false
        }
      },
      "outputs": [],
      "source": [
        "c = 1.0 # speed\n",
        "T = 1.0 / c # end time\n",
        "lmbda = 0.93\n",
        "dt = dx * lmbda / c\n",
        "nt = int(T//dt)\n",
        "print('T = %g' % T)\n",
        "print('tsteps = %d' % nt)\n",
        "print('    dx = %g' % dx)\n",
        "print('    dt = %g' % dt)\n",
        "print('lambda = %g' % lmbda)"
      ]
    },
    {
      "cell_type": "markdown",
      "metadata": {},
      "source": [
        "## Set Initial Condition\n",
        "(Square wave with amplitude 1)"
      ]
    },
    {
      "cell_type": "code",
      "execution_count": 34,
      "metadata": {},
      "outputs": [],
      "source": [
        "def f(x):\n",
        "    return ((x>0.4) & (x<0.6)).astype(np.float64)"
      ]
    },
    {
      "cell_type": "markdown",
      "metadata": {},
      "source": [
        "## Plot solution"
      ]
    },
    {
      "cell_type": "code",
      "execution_count": 42,
      "metadata": {
        "collapsed": false,
        "jupyter": {
          "outputs_hidden": false
        }
      },
      "outputs": [],
      "source": [
        "import time\n",
        "\n",
        "u = f(x)\n",
        "\n",
        "fig = plt.figure(figsize=(8,8))\n",
        "plt.title('u vs x')\n",
        "line1, = plt.plot(x, u, lw=3, clip_on=False)\n",
        "        \n",
        "def timestepper(n):\n",
        "    uex = f((x - c * (n+1) * dt) % 1.0)\n",
        "    line1.set_data(x, uex) \n",
        "    return [line1]\n",
        "\n",
        "from matplotlib import animation\n",
        "from IPython.display import HTML\n",
        "\n",
        "ani = animation.FuncAnimation(fig, timestepper, frames=nt, interval=20)\n",
        "html = HTML(ani.to_jshtml())\n",
        "plt.clf()\n",
        "html"
      ]
    },
    {
      "cell_type": "code",
      "execution_count": null,
      "metadata": {},
      "outputs": [],
      "source": []
    }
  ],
  "metadata": {
    "kernelspec": {
      "display_name": "Python 3",
      "language": "python",
      "name": "python3"
    },
    "language_info": {
      "codemirror_mode": {
        "name": "ipython",
        "version": 3
      },
      "file_extension": ".py",
      "mimetype": "text/x-python",
      "name": "python",
      "nbconvert_exporter": "python",
      "pygments_lexer": "ipython3",
      "version": "3.8.3"
    }
  },
  "nbformat": 4,
  "nbformat_minor": 4
}