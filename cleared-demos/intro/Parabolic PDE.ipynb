{
  "cells": [
    {
      "cell_type": "markdown",
      "metadata": {},
      "source": [
        "# Parabolic PDE\n",
        "\n",
        "Copyright (C) 2010-2020 Luke Olson<br>\n",
        "Copyright (C) 2020 Andreas Kloeckner\n",
        "\n",
        "<details>\n",
        "<summary>MIT License</summary>\n",
        "Permission is hereby granted, free of charge, to any person obtaining a copy\n",
        "of this software and associated documentation files (the \"Software\"), to deal\n",
        "in the Software without restriction, including without limitation the rights\n",
        "to use, copy, modify, merge, publish, distribute, sublicense, and/or sell\n",
        "copies of the Software, and to permit persons to whom the Software is\n",
        "furnished to do so, subject to the following conditions:\n",
        "\n",
        "The above copyright notice and this permission notice shall be included in\n",
        "all copies or substantial portions of the Software.\n",
        "\n",
        "THE SOFTWARE IS PROVIDED \"AS IS\", WITHOUT WARRANTY OF ANY KIND, EXPRESS OR\n",
        "IMPLIED, INCLUDING BUT NOT LIMITED TO THE WARRANTIES OF MERCHANTABILITY,\n",
        "FITNESS FOR A PARTICULAR PURPOSE AND NONINFRINGEMENT. IN NO EVENT SHALL THE\n",
        "AUTHORS OR COPYRIGHT HOLDERS BE LIABLE FOR ANY CLAIM, DAMAGES OR OTHER\n",
        "LIABILITY, WHETHER IN AN ACTION OF CONTRACT, TORT OR OTHERWISE, ARISING FROM,\n",
        "OUT OF OR IN CONNECTION WITH THE SOFTWARE OR THE USE OR OTHER DEALINGS IN\n",
        "THE SOFTWARE.\n",
        "</details>\n",
        "\n",
        "----\n",
        "\n",
        "Heat equation:  \n",
        "$$ u_t - c u_{xx} = 0\\quad \\text{in}\\, \\Omega\\, \\times\\, [0,T] $$\n",
        "$$ u(0,x) = g(x)\\quad \\text{in}\\, \\Omega\\, $$\n",
        "$$ u(t,0) = u(t,1) = 0 $$\n",
        "Let:\n",
        "$$ g(x) = sin(\\pi x) $$"
      ]
    },
    {
      "cell_type": "code",
      "execution_count": 2,
      "metadata": {},
      "outputs": [],
      "source": [
        "import numpy as np\n",
        "import scipy as sp\n",
        "import matplotlib.pyplot as plt\n",
        "import math\n",
        "import sympy as sym"
      ]
    },
    {
      "cell_type": "markdown",
      "metadata": {},
      "source": [
        "## Solution\n",
        "\n",
        "$$ u(t,x) = e^{-\\pi^2t}sin(\\pi x) $$\n",
        "\n",
        "Check symbolically."
      ]
    },
    {
      "cell_type": "code",
      "execution_count": 3,
      "metadata": {},
      "outputs": [],
      "source": []
    },
    {
      "cell_type": "markdown",
      "metadata": {},
      "source": [
        "## Set Up the Grid\n",
        "- `dx`: grid spacing in the $x$-direction  \n",
        "- `x`: grid coordinates  "
      ]
    },
    {
      "cell_type": "code",
      "execution_count": 4,
      "metadata": {},
      "outputs": [],
      "source": [
        "nx = 200\n",
        "x = np.linspace(0, 1, nx, endpoint=False)\n",
        "dx = x[1] - x[0]"
      ]
    },
    {
      "cell_type": "markdown",
      "metadata": {},
      "source": [
        "## Set Time Parameters"
      ]
    },
    {
      "cell_type": "code",
      "execution_count": 5,
      "metadata": {
        "collapsed": false,
        "jupyter": {
          "outputs_hidden": false
        }
      },
      "outputs": [],
      "source": [
        "T = 1.0 # end time\n",
        "dt = 0.009\n",
        "nt = int(T/dt)\n",
        "print('T = %g' % T)\n",
        "print('tsteps = %d' % nt)\n",
        "print('    dx = %g' % dx)\n",
        "print('    dt = %g' % dt)"
      ]
    },
    {
      "cell_type": "markdown",
      "metadata": {},
      "source": [
        "## Set Initial Condition"
      ]
    },
    {
      "cell_type": "code",
      "execution_count": 6,
      "metadata": {
        "collapsed": false,
        "jupyter": {
          "outputs_hidden": false
        }
      },
      "outputs": [],
      "source": [
        "PI = math.pi\n",
        "def g(x):\n",
        "    return np.sin(PI*x)  "
      ]
    },
    {
      "cell_type": "markdown",
      "metadata": {},
      "source": [
        "## Plot Solution"
      ]
    },
    {
      "cell_type": "code",
      "execution_count": 7,
      "metadata": {
        "collapsed": false,
        "jupyter": {
          "outputs_hidden": false
        }
      },
      "outputs": [],
      "source": [
        "import time\n",
        "\n",
        "plotit = True\n",
        "u = g(x)\n",
        "\n",
        "fig = plt.figure(figsize=(8,8))\n",
        "plt.title('u vs x')\n",
        "line1, = plt.plot(x, u, lw=3, clip_on=False)\n",
        "        \n",
        "def timestepper(n):\n",
        "    uex = np.exp(-1*PI**2*(n+1)*dt)*g(x)\n",
        "    line1.set_data(x, uex)    \n",
        "    return line1\n",
        "\n",
        "from matplotlib import animation\n",
        "from IPython.display import HTML\n",
        "\n",
        "ani = animation.FuncAnimation(fig, timestepper, frames=nt, interval=20)\n",
        "html = HTML(ani.to_jshtml())\n",
        "plt.clf()\n",
        "html"
      ]
    },
    {
      "cell_type": "code",
      "execution_count": null,
      "metadata": {},
      "outputs": [],
      "source": []
    }
  ],
  "metadata": {
    "kernelspec": {
      "display_name": "Python 3",
      "language": "python",
      "name": "python3"
    },
    "language_info": {
      "codemirror_mode": {
        "name": "ipython",
        "version": 3
      },
      "file_extension": ".py",
      "mimetype": "text/x-python",
      "name": "python",
      "nbconvert_exporter": "python",
      "pygments_lexer": "ipython3",
      "version": "3.8.3"
    }
  },
  "nbformat": 4,
  "nbformat_minor": 4
}