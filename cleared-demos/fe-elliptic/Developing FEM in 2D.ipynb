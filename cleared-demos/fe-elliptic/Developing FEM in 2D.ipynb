{
  "cells": [
    {
      "cell_type": "markdown",
      "metadata": {
        "deletable": true,
        "editable": true
      },
      "source": [
        "# Developing FEM in 2D\n",
        "\n",
        "Copyright (C) 2010-2020 Luke Olson<br>\n",
        "Copyright (C) 2020 Andreas Kloeckner\n",
        "\n",
        "<details>\n",
        "<summary>MIT License</summary>\n",
        "Permission is hereby granted, free of charge, to any person obtaining a copy\n",
        "of this software and associated documentation files (the \"Software\"), to deal\n",
        "in the Software without restriction, including without limitation the rights\n",
        "to use, copy, modify, merge, publish, distribute, sublicense, and/or sell\n",
        "copies of the Software, and to permit persons to whom the Software is\n",
        "furnished to do so, subject to the following conditions:\n",
        "\n",
        "The above copyright notice and this permission notice shall be included in\n",
        "all copies or substantial portions of the Software.\n",
        "\n",
        "THE SOFTWARE IS PROVIDED \"AS IS\", WITHOUT WARRANTY OF ANY KIND, EXPRESS OR\n",
        "IMPLIED, INCLUDING BUT NOT LIMITED TO THE WARRANTIES OF MERCHANTABILITY,\n",
        "FITNESS FOR A PARTICULAR PURPOSE AND NONINFRINGEMENT. IN NO EVENT SHALL THE\n",
        "AUTHORS OR COPYRIGHT HOLDERS BE LIABLE FOR ANY CLAIM, DAMAGES OR OTHER\n",
        "LIABILITY, WHETHER IN AN ACTION OF CONTRACT, TORT OR OTHERWISE, ARISING FROM,\n",
        "OUT OF OR IN CONNECTION WITH THE SOFTWARE OR THE USE OR OTHER DEALINGS IN\n",
        "THE SOFTWARE.\n",
        "</details>\n",
        "\n",
        "-----\n",
        "\n",
        "In this note, we look at constructing a finite element approximation to\n",
        "$$\n",
        "\\begin{align*}\n",
        "{}- \\nabla\\cdot \\kappa(x,y) \\nabla &u = f(x,y)\\qquad((x,y)\\in\\Omega),\\\\\n",
        "u &= g(x,y)\\qquad ((x,y)\\in \\partial \\Omega).\n",
        "\\end{align*}\n",
        "$$\n",
        "We define $\\kappa$, $f$, and $g$ in a bit."
      ]
    },
    {
      "cell_type": "code",
      "execution_count": 1,
      "metadata": {
        "collapsed": false,
        "deletable": true,
        "editable": true,
        "jupyter": {
          "outputs_hidden": false
        }
      },
      "outputs": [],
      "source": [
        "import numpy as np\n",
        "import scipy.linalg as la\n",
        "import scipy.sparse as sparse\n",
        "import scipy.sparse.linalg as sla\n",
        "\n",
        "from mpl_toolkits.mplot3d import Axes3D\n",
        "import matplotlib.pyplot as plt"
      ]
    },
    {
      "cell_type": "markdown",
      "metadata": {},
      "source": [
        "## Mesh the Domain\n",
        "\n",
        "This uses [meshpy](https://documen.tician.de/meshpy/), which under the hood uses [Triangle](https://www.cs.cmu.edu/~quake/triangle.html).\n",
        "\n",
        "`pip install meshpy` to install.\n",
        "\n",
        "NB: Triangle is *not* open-source software. If you are looking for a quality mesher that is open-source (but a bit more complex to use), look at [Gmsh](http://gmsh.info/)."
      ]
    },
    {
      "cell_type": "code",
      "execution_count": 2,
      "metadata": {},
      "outputs": [],
      "source": [
        "import meshpy.triangle as triangle\n",
        "\n",
        "def round_trip_connect(start, end):\n",
        "    return [(i, i+1) for i in range(start, end)] + [(end, start)]\n",
        "\n",
        "def make_mesh():\n",
        "    points = [(-1, -1), (1, -1), (1, 1), (-1, 1)]\n",
        "    facets = round_trip_connect(0, len(points)-1)\n",
        "\n",
        "    circ_start = len(points)\n",
        "    points.extend(\n",
        "            (0.25 * np.cos(angle), 0.25 * np.sin(angle))\n",
        "            for angle in np.linspace(0, 2*np.pi, 30, endpoint=False))\n",
        "\n",
        "    facets.extend(round_trip_connect(circ_start, len(points)-1))\n",
        "\n",
        "    def needs_refinement(vertices, area):\n",
        "        bary = np.sum(np.array(vertices), axis=0)/3\n",
        "        max_area = 0.01 + la.norm(bary, np.inf)*0.01\n",
        "        return bool(area > max_area)\n",
        "\n",
        "    info = triangle.MeshInfo()\n",
        "    info.set_points(points)\n",
        "    info.set_facets(facets)\n",
        "\n",
        "    built_mesh = triangle.build(info, refinement_func=needs_refinement)\n",
        "    return np.array(built_mesh.points), np.array(built_mesh.elements)\n",
        "\n",
        "V, E = make_mesh()"
      ]
    },
    {
      "cell_type": "code",
      "execution_count": 3,
      "metadata": {
        "collapsed": false,
        "deletable": true,
        "editable": true,
        "jupyter": {
          "outputs_hidden": false
        }
      },
      "outputs": [],
      "source": [
        "nv = len(V)\n",
        "ne = len(E)\n",
        "print(V.shape)\n",
        "print(E.shape)\n",
        "print(E.max())\n",
        "X, Y = V[:, 0], V[:, 1]"
      ]
    },
    {
      "cell_type": "code",
      "execution_count": 4,
      "metadata": {
        "collapsed": false,
        "deletable": true,
        "editable": true,
        "jupyter": {
          "outputs_hidden": false
        }
      },
      "outputs": [],
      "source": [
        "plt.figure(figsize=(7,7))\n",
        "plt.gca().set_aspect(\"equal\")\n",
        "plt.triplot(X, Y, E)"
      ]
    },
    {
      "cell_type": "markdown",
      "metadata": {},
      "source": [
        "## Constructing Element Mappings\n",
        "\n",
        "Map the reference triangle to the triangle given by these vertices:"
      ]
    },
    {
      "cell_type": "code",
      "execution_count": 5,
      "metadata": {},
      "outputs": [],
      "source": [
        "v1 = np.array([1.0, 1.0])\n",
        "v2 = np.array([3.0, 1.0])\n",
        "v3 = np.array([2.0, 2.0])"
      ]
    },
    {
      "cell_type": "markdown",
      "metadata": {},
      "source": [
        "Come up with the matrix `TA` and vector `Tb` of the affine mapping."
      ]
    },
    {
      "cell_type": "code",
      "execution_count": 6,
      "metadata": {},
      "outputs": [],
      "source": []
    },
    {
      "cell_type": "markdown",
      "metadata": {},
      "source": [
        "Test the mapping."
      ]
    },
    {
      "cell_type": "code",
      "execution_count": 7,
      "metadata": {},
      "outputs": [],
      "source": [
        "# make random points in the reference triangle\n",
        "r = np.random.rand(1000, 2)\n",
        "r = r[r[:, 0]+r[:, 1] < 1]\n",
        "\n",
        "x = np.einsum(\"ij,pj->pi\", TA, r) + Tb\n",
        "\n",
        "plt.plot(x[:, 0], x[:, 1], \"o\")\n",
        "plt.plot(r[:, 0], r[:, 1], \"o\")\n",
        "plt.plot(v1[0], v1[1], \"o\", label=\"v1\")\n",
        "plt.plot(v2[0], v2[1], \"o\", label=\"v2\")\n",
        "plt.plot(v3[0], v3[1], \"o\", label=\"v3\")\n",
        "plt.legend()"
      ]
    },
    {
      "cell_type": "markdown",
      "metadata": {
        "deletable": true,
        "editable": true
      },
      "source": [
        "## Problem Data\n",
        "\n",
        "Define $\\kappa$, $f$, and $g$."
      ]
    },
    {
      "cell_type": "code",
      "execution_count": 8,
      "metadata": {
        "collapsed": false,
        "deletable": true,
        "editable": true,
        "jupyter": {
          "outputs_hidden": false
        }
      },
      "outputs": [],
      "source": [
        "def kappa(xvec):\n",
        "    x, y = xvec\n",
        "    if (x**2 + y**2)**0.5 <= 0.25:\n",
        "        return 25.0\n",
        "    else:\n",
        "        return 1.0\n",
        "\n",
        "def f(xvec):\n",
        "    x, y = xvec\n",
        "    if (x**2 + y**2)**0.5 <= 0.25:\n",
        "        return 100.0\n",
        "    else:\n",
        "        return 0.0\n",
        "\n",
        "    \n",
        "def g(xvec):\n",
        "    x, y = xvec\n",
        "    return 1 * (1 - x**2)    "
      ]
    },
    {
      "cell_type": "markdown",
      "metadata": {},
      "source": [
        "## Assembly Helper"
      ]
    },
    {
      "cell_type": "code",
      "execution_count": 9,
      "metadata": {},
      "outputs": [],
      "source": [
        "class MatrixBuilder:\n",
        "    def __init__(self):\n",
        "        self.rows = []\n",
        "        self.cols = []\n",
        "        self.vals = []\n",
        "        \n",
        "    def add(self, rows, cols, submat):\n",
        "        for i, ri in enumerate(rows):\n",
        "            for j, cj in enumerate(cols):\n",
        "                self.rows.append(ri)\n",
        "                self.cols.append(cj)\n",
        "                self.vals.append(submat[i, j])\n",
        "                \n",
        "    def coo_matrix(self):\n",
        "        return sparse.coo_matrix((self.vals, (self.rows, self.cols)))"
      ]
    },
    {
      "cell_type": "markdown",
      "metadata": {},
      "source": [
        "## Assembly"
      ]
    },
    {
      "cell_type": "markdown",
      "metadata": {},
      "source": [
        "Recall the nodal linear basis:\n",
        "- $\\varphi_1(r,s) =1-r-s$\n",
        "- $\\varphi_2(r,s) =r$\n",
        "- $\\varphi_3(r,s) =s$\n",
        "\n",
        "Create a $2\\times N_p$ array containing $\\nabla_{\\boldsymbol r} \\varphi_i$."
      ]
    },
    {
      "cell_type": "code",
      "execution_count": 10,
      "metadata": {},
      "outputs": [],
      "source": []
    },
    {
      "cell_type": "markdown",
      "metadata": {
        "deletable": true,
        "editable": true
      },
      "source": [
        "Assemble the matrix. Use a `MatrixBuilder` `a_builder`. Recall (from the notes):\n",
        "$$\n",
        "  \\let\\b=\\boldsymbol\n",
        "  \\int_{E} \\kappa(\\b{x}) \\nabla \\varphi_i ( \\b{x} )^T \\nabla \\varphi_j ( \\b{x} ) d\\b{x}\n",
        "   = ( J_T^{-T} \\nabla_{\\b r} \\varphi_i )^T ( J_T^{-T} \\nabla_{\\b r} \\varphi_j ) | J_T | \\int_{\\hat E} \\kappa( T( \\b{r} ) ) d\\b{r}\n",
        "$$\n",
        "\n",
        "Using a 1-point Gauss Quadrature rule:\n",
        "$\\int_{\\hat E} f \\approx \\frac 12  f(\\bar{\\boldsymbol x})$,\n",
        "where $\\bar{\\boldsymbol x}$ is the element centroid."
      ]
    },
    {
      "cell_type": "code",
      "execution_count": 11,
      "metadata": {
        "collapsed": false,
        "deletable": true,
        "editable": true,
        "jupyter": {
          "outputs_hidden": false
        }
      },
      "outputs": [],
      "source": []
    },
    {
      "cell_type": "markdown",
      "metadata": {},
      "source": [
        "Eliminate duplicate entries in the COO-form sparse matrix:"
      ]
    },
    {
      "cell_type": "code",
      "execution_count": 12,
      "metadata": {},
      "outputs": [],
      "source": [
        "A = a_builder.coo_matrix().tocsr().tocoo()"
      ]
    },
    {
      "cell_type": "markdown",
      "metadata": {},
      "source": [
        "Compute the right-hand side `b` using a 1-point Gauss Quadrature rule:\n",
        "$$\n",
        "\\int_{E_i} f(\\boldsymbol x) \\phi_i\\,d\\boldsymbol x\n",
        "= |J| \\int_{E} f(T_i(\\boldsymbol r)) \\phi_i(\\alpha)\\,d\\boldsymbol r\\\\\n",
        "\\approx \\frac 12 |J|   f(\\bar{\\boldsymbol x}) \\phi_i(\\boldsymbol r)\n",
        "= \\frac 16 |J| f(\\bar{\\boldsymbol x}),\n",
        "$$\n",
        "where $\\bar{\\boldsymbol x}$ is the element centroid."
      ]
    },
    {
      "cell_type": "code",
      "execution_count": 13,
      "metadata": {},
      "outputs": [],
      "source": []
    },
    {
      "cell_type": "markdown",
      "metadata": {
        "deletable": true,
        "editable": true
      },
      "source": [
        "## Boundary Conditions\n",
        "\n",
        "Create flags for the boundary vertices/DoFs:"
      ]
    },
    {
      "cell_type": "code",
      "execution_count": 14,
      "metadata": {
        "collapsed": false,
        "deletable": true,
        "editable": true,
        "jupyter": {
          "outputs_hidden": false
        }
      },
      "outputs": [],
      "source": [
        "tol = 1e-12\n",
        "is_boundary = (\n",
        "    (np.abs(X+1) < tol)\n",
        "    | (np.abs(X-1) < tol)\n",
        "    | (np.abs(Y+1) < tol)\n",
        "    | (np.abs(Y-1) < tol))\n",
        "is_g_boundary = np.abs(Y+1) < tol"
      ]
    },
    {
      "cell_type": "markdown",
      "metadata": {
        "deletable": true,
        "editable": true
      },
      "source": [
        "Next, construct the 'volume-lifted' boundary condition $u^0$."
      ]
    },
    {
      "cell_type": "code",
      "execution_count": 15,
      "metadata": {
        "collapsed": false,
        "deletable": true,
        "editable": true,
        "jupyter": {
          "outputs_hidden": false
        }
      },
      "outputs": [],
      "source": []
    },
    {
      "cell_type": "markdown",
      "metadata": {},
      "source": [
        "Compute the \"post-lifting\" right hand side `rhs`.\n",
        "\n",
        "*Note:* The Riesz representer of `rhs` needs to be in $H^1_0$. (I.e. what should its values for the boundary DoFs be?)"
      ]
    },
    {
      "cell_type": "code",
      "execution_count": 16,
      "metadata": {},
      "outputs": [],
      "source": []
    },
    {
      "cell_type": "markdown",
      "metadata": {
        "deletable": true,
        "editable": true
      },
      "source": [
        "Next, set the rows corresponding to boundary DoFs to be identity rows:"
      ]
    },
    {
      "cell_type": "code",
      "execution_count": 17,
      "metadata": {
        "collapsed": false,
        "deletable": true,
        "editable": true,
        "jupyter": {
          "outputs_hidden": false
        }
      },
      "outputs": [],
      "source": []
    },
    {
      "cell_type": "markdown",
      "metadata": {
        "deletable": true,
        "editable": true
      },
      "source": [
        "## Solve and Plot\n",
        "\n",
        "Now solve and correct for lifting:"
      ]
    },
    {
      "cell_type": "code",
      "execution_count": 18,
      "metadata": {
        "collapsed": false,
        "deletable": true,
        "editable": true,
        "jupyter": {
          "outputs_hidden": false
        }
      },
      "outputs": [],
      "source": []
    },
    {
      "cell_type": "markdown",
      "metadata": {
        "deletable": true,
        "editable": true
      },
      "source": [
        "And plot:"
      ]
    },
    {
      "cell_type": "code",
      "execution_count": 19,
      "metadata": {
        "collapsed": false,
        "deletable": true,
        "editable": true,
        "jupyter": {
          "outputs_hidden": false
        }
      },
      "outputs": [],
      "source": [
        "fig = plt.figure(figsize=(8,8))\n",
        "ax = plt.gca(projection='3d')\n",
        "ax.plot_trisurf(X, Y, u, triangles=E, cmap=plt.cm.jet, linewidth=0.2)\n",
        "plt.show()"
      ]
    },
    {
      "cell_type": "code",
      "execution_count": null,
      "metadata": {},
      "outputs": [],
      "source": []
    }
  ],
  "metadata": {
    "kernelspec": {
      "display_name": "Python 3 (ipykernel)",
      "language": "python",
      "name": "python3"
    },
    "language_info": {
      "codemirror_mode": {
        "name": "ipython",
        "version": 3
      },
      "file_extension": ".py",
      "mimetype": "text/x-python",
      "name": "python",
      "nbconvert_exporter": "python",
      "pygments_lexer": "ipython3",
      "version": "3.10.4"
    }
  },
  "nbformat": 4,
  "nbformat_minor": 4
}