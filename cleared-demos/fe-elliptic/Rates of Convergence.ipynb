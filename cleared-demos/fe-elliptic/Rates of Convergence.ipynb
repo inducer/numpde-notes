{
  "cells": [
    {
      "cell_type": "markdown",
      "metadata": {},
      "source": [
        "# Rates of Convergence\n",
        "\n",
        "Copyright (C) 2010-2020 Luke Olson<br>\n",
        "Copyright (C) 2020 Andreas Kloeckner\n",
        "\n",
        "<details>\n",
        "<summary>MIT License</summary>\n",
        "Permission is hereby granted, free of charge, to any person obtaining a copy\n",
        "of this software and associated documentation files (the \"Software\"), to deal\n",
        "in the Software without restriction, including without limitation the rights\n",
        "to use, copy, modify, merge, publish, distribute, sublicense, and/or sell\n",
        "copies of the Software, and to permit persons to whom the Software is\n",
        "furnished to do so, subject to the following conditions:\n",
        "\n",
        "The above copyright notice and this permission notice shall be included in\n",
        "all copies or substantial portions of the Software.\n",
        "\n",
        "THE SOFTWARE IS PROVIDED \"AS IS\", WITHOUT WARRANTY OF ANY KIND, EXPRESS OR\n",
        "IMPLIED, INCLUDING BUT NOT LIMITED TO THE WARRANTIES OF MERCHANTABILITY,\n",
        "FITNESS FOR A PARTICULAR PURPOSE AND NONINFRINGEMENT. IN NO EVENT SHALL THE\n",
        "AUTHORS OR COPYRIGHT HOLDERS BE LIABLE FOR ANY CLAIM, DAMAGES OR OTHER\n",
        "LIABILITY, WHETHER IN AN ACTION OF CONTRACT, TORT OR OTHERWISE, ARISING FROM,\n",
        "OUT OF OR IN CONNECTION WITH THE SOFTWARE OR THE USE OR OTHER DEALINGS IN\n",
        "THE SOFTWARE.\n",
        "</details>"
      ]
    },
    {
      "cell_type": "code",
      "execution_count": 1,
      "metadata": {},
      "outputs": [],
      "source": [
        "from firedrake import *\n",
        "import numpy as np\n",
        "import matplotlib.pyplot as plt"
      ]
    },
    {
      "cell_type": "markdown",
      "metadata": {},
      "source": [
        "## A Boundary Value Problem\n",
        "\n",
        "Consider\n",
        "$$u_{*} = \\sin(\\omega \\pi x) \\sin(\\omega \\pi y)$$\n",
        "on the unit square with $\\omega = 2$ as a start."
      ]
    },
    {
      "cell_type": "code",
      "execution_count": 2,
      "metadata": {
        "collapsed": false,
        "jupyter": {
          "outputs_hidden": false
        }
      },
      "outputs": [],
      "source": [
        "omega = 2"
      ]
    },
    {
      "cell_type": "markdown",
      "metadata": {},
      "source": [
        "## Refine the Mesh and Check the Error"
      ]
    },
    {
      "cell_type": "code",
      "execution_count": 12,
      "metadata": {
        "collapsed": false,
        "jupyter": {
          "outputs_hidden": false
        }
      },
      "outputs": [],
      "source": [
        "errsH0 = []\n",
        "errsH1 = []\n",
        "hs = []\n",
        "\n",
        "for nx in [4, 8, 16, 32, 64, 128]: # , 256, 512]:\n",
        "    print(f\"Now solving {nx}x{nx}...\")\n",
        "    mesh = UnitSquareMesh(nx, nx)\n",
        "\n",
        "    V = FunctionSpace(mesh, \"Lagrange\", 1)\n",
        "    Vexact = FunctionSpace(mesh, \"Lagrange\", 7)\n",
        "\n",
        "    x = SpatialCoordinate(V.mesh())\n",
        "    u_exact = interpolate(sin(omega*pi*x[0])*sin(omega*pi*x[1]), Vexact)\n",
        "    f = 2*pi**2*omega**2*u_exact\n",
        "\n",
        "    # all four sides of the square\n",
        "    bc = DirichletBC(V, 0.0, [1, 2, 3, 4])\n",
        "    u = TrialFunction(V)\n",
        "    v = TestFunction(V)\n",
        "\n",
        "    a = inner(grad(u), grad(v))*dx\n",
        "    L = f*v*dx\n",
        "\n",
        "    u = Function(V)\n",
        "    solve(a == L, u, bc)\n",
        "\n",
        "    EH0 = errornorm(u_exact, u, norm_type='L2')\n",
        "    EH1 = errornorm(u_exact, u, norm_type='H1')\n",
        "    errsH0.append(EH0)\n",
        "    errsH1.append(EH1)\n",
        "    hs.append(1/nx)"
      ]
    },
    {
      "cell_type": "code",
      "execution_count": 13,
      "metadata": {},
      "outputs": [],
      "source": [
        "errsH0 = np.array(errsH0)\n",
        "errsH1 = np.array(errsH1)\n",
        "hs = np.array(hs)\n",
        "rH0 = np.log(errsH0[1:] / errsH0[0:-1]) / np.log(hs[1:] / hs[0:-1])\n",
        "rH1 = np.log(errsH1[1:] / errsH1[0:-1]) / np.log(hs[1:] / hs[0:-1])\n",
        "print(rH0)\n",
        "print(rH1)"
      ]
    },
    {
      "cell_type": "code",
      "execution_count": 15,
      "metadata": {
        "collapsed": false,
        "jupyter": {
          "outputs_hidden": false
        }
      },
      "outputs": [],
      "source": [
        "plt.loglog(hs, errsH0, \"o-\", label=\"$H^0$ error\")\n",
        "plt.loglog(hs, errsH1, \"o-\", label=\"$H^1$ error\")\n",
        "plt.loglog(hs, hs**1, \"o-\", label=\"$h^1$\")\n",
        "plt.loglog(hs, hs**2, \"o-\", label=\"$h^2$\")\n",
        "plt.legend()"
      ]
    },
    {
      "cell_type": "markdown",
      "metadata": {},
      "source": [
        "- Now play with $\\omega$ and the element order."
      ]
    },
    {
      "cell_type": "code",
      "execution_count": null,
      "metadata": {},
      "outputs": [],
      "source": []
    }
  ],
  "metadata": {
    "kernelspec": {
      "display_name": "Python 3",
      "language": "python",
      "name": "python3"
    },
    "language_info": {
      "codemirror_mode": {
        "name": "ipython",
        "version": 3
      },
      "file_extension": ".py",
      "mimetype": "text/x-python",
      "name": "python",
      "nbconvert_exporter": "python",
      "pygments_lexer": "ipython3",
      "version": "3.8.3"
    }
  },
  "nbformat": 4,
  "nbformat_minor": 4
}