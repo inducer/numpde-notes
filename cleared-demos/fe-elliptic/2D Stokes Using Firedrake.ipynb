{
  "cells": [
    {
      "cell_type": "markdown",
      "metadata": {},
      "source": [
        "# 2D Stokes Using Firedrake\n",
        "\n",
        "Copyright (C) 2010-2020 Luke Olson<br>\n",
        "Copyright (C) 2020 Andreas Kloeckner\n",
        "\n",
        "<details>\n",
        "<summary>MIT License</summary>\n",
        "Permission is hereby granted, free of charge, to any person obtaining a copy\n",
        "of this software and associated documentation files (the \"Software\"), to deal\n",
        "in the Software without restriction, including without limitation the rights\n",
        "to use, copy, modify, merge, publish, distribute, sublicense, and/or sell\n",
        "copies of the Software, and to permit persons to whom the Software is\n",
        "furnished to do so, subject to the following conditions:\n",
        "\n",
        "The above copyright notice and this permission notice shall be included in\n",
        "all copies or substantial portions of the Software.\n",
        "\n",
        "THE SOFTWARE IS PROVIDED \"AS IS\", WITHOUT WARRANTY OF ANY KIND, EXPRESS OR\n",
        "IMPLIED, INCLUDING BUT NOT LIMITED TO THE WARRANTIES OF MERCHANTABILITY,\n",
        "FITNESS FOR A PARTICULAR PURPOSE AND NONINFRINGEMENT. IN NO EVENT SHALL THE\n",
        "AUTHORS OR COPYRIGHT HOLDERS BE LIABLE FOR ANY CLAIM, DAMAGES OR OTHER\n",
        "LIABILITY, WHETHER IN AN ACTION OF CONTRACT, TORT OR OTHERWISE, ARISING FROM,\n",
        "OUT OF OR IN CONNECTION WITH THE SOFTWARE OR THE USE OR OTHER DEALINGS IN\n",
        "THE SOFTWARE.\n",
        "</details>\n",
        "\n",
        "-----\n",
        "\n",
        "$$\n",
        "\\let\\b=\\boldsymbol\n",
        "\\def\\ip#1#2{\\left\\langle #1, #2\\right\\rangle}\n",
        "\\begin{eqnarray*}\n",
        "  \\Delta \\b{u}+ \\nabla p & = & -\\b{f} \\quad (x \\in \\Omega),\\\\\n",
        "  \\nabla \\cdot \\b{u} & = & 0 \\quad (x \\in \\Omega),\\\\\n",
        "  \\b{u} & = & \\b{u}_0 \\quad (x \\in \\partial \\Omega) .\n",
        "\\end{eqnarray*}\n",
        "$$"
      ]
    },
    {
      "cell_type": "code",
      "execution_count": 1,
      "metadata": {},
      "outputs": [],
      "source": [
        "import numpy as np\n",
        "import numpy.linalg as la\n",
        "import firedrake.mesh as fd_mesh\n",
        "import matplotlib.pyplot as plt\n",
        "\n",
        "from firedrake import *"
      ]
    },
    {
      "cell_type": "code",
      "execution_count": 27,
      "metadata": {},
      "outputs": [],
      "source": [
        "import meshpy.triangle as triangle\n",
        "\n",
        "def round_trip_connect(start, end):\n",
        "    return [(i, i+1) for i in range(start, end)] + [(end, start)]\n",
        "\n",
        "reentrant_corner = 1\n",
        "\n",
        "def make_mesh():\n",
        "    if not reentrant_corner:\n",
        "        # tube\n",
        "        points = [\n",
        "                  (-1, -1), \n",
        "                  (1,-1),\n",
        "                  (1, 1),\n",
        "                  (-1, 1)]\n",
        "    else:\n",
        "        # reentrant corner\n",
        "        points = [\n",
        "                  (-1, 0), \n",
        "                  (0,0), \n",
        "                  (0, -1), \n",
        "                  (1,-1),\n",
        "                  (1, 1),\n",
        "                  (-1, 1)]\n",
        "        \n",
        "    facets = round_trip_connect(0, len(points)-1)\n",
        "    # 1 for \"prescribed 0 velocity\"\n",
        "    # 2 for \"prescribed velocity\"\n",
        "    facet_markers = [1] * len(facets)\n",
        "    facet_markers[-1] = 2\n",
        "    facet_markers[-3] = 3\n",
        "\n",
        "    def needs_refinement(vertices, area):\n",
        "        bary = np.sum(np.array(vertices), axis=0)/3\n",
        "        if reentrant_corner:\n",
        "            max_area = 0.0001 + la.norm(bary, np.inf)*0.01\n",
        "        else:\n",
        "            max_area = 0.01\n",
        "        return bool(area > max_area)\n",
        "\n",
        "    info = triangle.MeshInfo()\n",
        "    info.set_points(points)\n",
        "    info.set_facets(facets, facet_markers=facet_markers)\n",
        "\n",
        "    built_mesh = triangle.build(info, refinement_func=needs_refinement)\n",
        "    plex = fd_mesh._from_cell_list(\n",
        "        2, np.array(built_mesh.elements), np.array(built_mesh.points), COMM_WORLD)\n",
        "\n",
        "    import firedrake.cython.dmplex as dmplex\n",
        "\n",
        "    v_start, v_end = plex.getDepthStratum(0)   # vertices\n",
        "    for facet, fmarker in zip(built_mesh.facets, built_mesh.facet_markers):\n",
        "        vertices = [fvert + v_start for fvert in facet]\n",
        "        join = plex.getJoin(vertices)\n",
        "        plex.setLabelValue(dmplex.FACE_SETS_LABEL, join[0], fmarker)\n",
        "\n",
        "    return Mesh(plex)\n",
        "    \n",
        "mesh = make_mesh()\n",
        "\n",
        "triplot(mesh)\n",
        "plt.gca().set_aspect(\"equal\")\n",
        "plt.legend()"
      ]
    },
    {
      "cell_type": "markdown",
      "metadata": {},
      "source": [
        "Choose some function spaces:"
      ]
    },
    {
      "cell_type": "code",
      "execution_count": 28,
      "metadata": {},
      "outputs": [],
      "source": [
        "if 0:\n",
        "    # \"P1-P1\"\n",
        "    V = VectorFunctionSpace(mesh, \"CG\", 1)\n",
        "    W = FunctionSpace(mesh, \"CG\", 1)\n",
        "elif 1:\n",
        "    # MINI\n",
        "    P1 = FiniteElement(\"CG\", cell=mesh.ufl_cell(), degree=1)\n",
        "    B = FiniteElement(\"B\", cell=mesh.ufl_cell(), degree=3)\n",
        "    mini = P1 + B\n",
        "    V = VectorFunctionSpace(mesh, mini)\n",
        "    W = FunctionSpace(mesh, 'CG', 1)\n",
        "else:\n",
        "    # Taylor-Hood\n",
        "    V = VectorFunctionSpace(mesh, \"CG\", 2)\n",
        "    W = FunctionSpace(mesh, \"CG\", 1)\n",
        "    \n",
        "Z = V * W"
      ]
    },
    {
      "cell_type": "markdown",
      "metadata": {},
      "source": [
        "Set up the weak form:\n",
        "$$\n",
        "\\begin{align*}\n",
        "  a (\\b{u}, \\b{v}) = \\int_{\\Omega} J_{\\b{u}} : J_{\\b{v}}, \\\\\n",
        "  b (\\b{v}, q) = \\int_{\\Omega} \\nabla \\cdot \\b{v}q,\n",
        "\\end{align*}\n",
        "$$\n",
        "where $A : B = \\operatorname{tr} (AB^T)$.\n",
        "Find $(\\b{u}, p) \\in X \\times M$ so that\n",
        "$$\n",
        "\\begin{eqnarray*}\n",
        "  a (\\b{u}, \\b{v}) + b (\\b{v}, p) & = &\n",
        "  \\ip{\\b{f}}{\\b{v}}_{L^2} \\quad (\\b{v} \\in X),\\\\\n",
        "  b (\\b{u}, q) & = & 0 \\quad (q \\in M),\n",
        "\\end{eqnarray*}\n",
        "$$"
      ]
    },
    {
      "cell_type": "code",
      "execution_count": 29,
      "metadata": {},
      "outputs": [],
      "source": [
        "u, p = TrialFunctions(Z)\n",
        "v, q = TestFunctions(Z)\n",
        "\n",
        "a = (inner(grad(u), grad(v)) - p * div(v) + div(u) * q)*dx\n",
        "\n",
        "L = inner(Constant((0, 0)), v) * dx"
      ]
    },
    {
      "cell_type": "markdown",
      "metadata": {},
      "source": [
        "Pick boundary conditions:"
      ]
    },
    {
      "cell_type": "code",
      "execution_count": 30,
      "metadata": {},
      "outputs": [],
      "source": [
        "bcs = [\n",
        "    DirichletBC(Z.sub(0), Constant((1, 0)), (2,)),\n",
        "    DirichletBC(Z.sub(0), Constant((0.5 if reentrant_corner else 1, 0)), (3,)),\n",
        "    DirichletBC(Z.sub(0), Constant((0, 0)), (1,))\n",
        "]"
      ]
    },
    {
      "cell_type": "markdown",
      "metadata": {},
      "source": [
        "Let the linear solver know about the nullspace:"
      ]
    },
    {
      "cell_type": "code",
      "execution_count": 31,
      "metadata": {},
      "outputs": [],
      "source": [
        "nullspace = MixedVectorSpaceBasis(\n",
        "    Z, [Z.sub(0), VectorSpaceBasis(constant=True)])"
      ]
    },
    {
      "cell_type": "markdown",
      "metadata": {},
      "source": [
        "Solve:"
      ]
    },
    {
      "cell_type": "code",
      "execution_count": 32,
      "metadata": {},
      "outputs": [],
      "source": [
        "upsol = Function(Z)\n",
        "usol, psol = upsol.split()\n",
        "\n",
        "solve(a == L, upsol, bcs=bcs,\n",
        "      nullspace=nullspace,\n",
        "      solver_parameters={'pc_type': 'fieldsplit',\n",
        "                         'ksp_rtol': 1e-15,\n",
        "                         'pc_fieldsplit_type': 'schur',\n",
        "                         'fieldsplit_schur_fact_type': 'diag',\n",
        "                         'fieldsplit_0_pc_type': 'redundant',\n",
        "                         'fieldsplit_0_redundant_pc_type': 'lu',\n",
        "                         'fieldsplit_1_pc_type': 'none',\n",
        "                         'ksp_monitor_true_residual': None,\n",
        "                         'mat_type': 'aij'})"
      ]
    },
    {
      "cell_type": "markdown",
      "metadata": {},
      "source": [
        "Plot the velocity:"
      ]
    },
    {
      "cell_type": "code",
      "execution_count": 33,
      "metadata": {},
      "outputs": [],
      "source": [
        "plt.figure(figsize=(8, 8))\n",
        "ax = plt.gca()\n",
        "ax.set_aspect(\"equal\")\n",
        "triplot(mesh, axes=ax, interior_kw=dict(alpha=0.05))\n",
        "quiver(usol, axes=ax)"
      ]
    },
    {
      "cell_type": "markdown",
      "metadata": {},
      "source": [
        "Plot the pressure and the divergence of $u$:\n"
      ]
    },
    {
      "cell_type": "code",
      "execution_count": 34,
      "metadata": {},
      "outputs": [],
      "source": [
        "div_usol = project(div(usol), W)\n",
        "\n",
        "plt.figure(figsize=(12,6))\n",
        "plt.subplot(121)\n",
        "ax = plt.gca()\n",
        "l = tricontourf(psol, axes=ax)\n",
        "triplot(mesh, axes=ax, interior_kw=dict(alpha=0.05))\n",
        "plt.colorbar(l)\n",
        "plt.title(\"Pressure\")\n",
        "\n",
        "plt.subplot(122)\n",
        "ax = plt.gca()\n",
        "l = tricontourf(div_usol, axes=ax)\n",
        "triplot(mesh, axes=ax, interior_kw=dict(alpha=0.05))\n",
        "plt.colorbar(l)\n",
        "plt.title(r\"$\\nabla\\cdot u$\")"
      ]
    },
    {
      "cell_type": "code",
      "execution_count": null,
      "metadata": {},
      "outputs": [],
      "source": []
    }
  ],
  "metadata": {
    "kernelspec": {
      "display_name": "Python 3",
      "language": "python",
      "name": "python3"
    },
    "language_info": {
      "codemirror_mode": {
        "name": "ipython",
        "version": 3
      },
      "file_extension": ".py",
      "mimetype": "text/x-python",
      "name": "python",
      "nbconvert_exporter": "python",
      "pygments_lexer": "ipython3",
      "version": "3.8.3"
    }
  },
  "nbformat": 4,
  "nbformat_minor": 4
}