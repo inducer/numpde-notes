{
  "cells": [
    {
      "cell_type": "markdown",
      "metadata": {},
      "source": [
        "# 2D FEM Using Firedrake\n",
        "\n",
        "Copyright (C) 2020 Andreas Kloeckner\n",
        "\n",
        "<details>\n",
        "<summary>MIT License</summary>\n",
        "Permission is hereby granted, free of charge, to any person obtaining a copy\n",
        "of this software and associated documentation files (the \"Software\"), to deal\n",
        "in the Software without restriction, including without limitation the rights\n",
        "to use, copy, modify, merge, publish, distribute, sublicense, and/or sell\n",
        "copies of the Software, and to permit persons to whom the Software is\n",
        "furnished to do so, subject to the following conditions:\n",
        "\n",
        "The above copyright notice and this permission notice shall be included in\n",
        "all copies or substantial portions of the Software.\n",
        "\n",
        "THE SOFTWARE IS PROVIDED \"AS IS\", WITHOUT WARRANTY OF ANY KIND, EXPRESS OR\n",
        "IMPLIED, INCLUDING BUT NOT LIMITED TO THE WARRANTIES OF MERCHANTABILITY,\n",
        "FITNESS FOR A PARTICULAR PURPOSE AND NONINFRINGEMENT. IN NO EVENT SHALL THE\n",
        "AUTHORS OR COPYRIGHT HOLDERS BE LIABLE FOR ANY CLAIM, DAMAGES OR OTHER\n",
        "LIABILITY, WHETHER IN AN ACTION OF CONTRACT, TORT OR OTHERWISE, ARISING FROM,\n",
        "OUT OF OR IN CONNECTION WITH THE SOFTWARE OR THE USE OR OTHER DEALINGS IN\n",
        "THE SOFTWARE.\n",
        "</details>"
      ]
    },
    {
      "cell_type": "code",
      "execution_count": 82,
      "metadata": {},
      "outputs": [],
      "source": [
        "from firedrake import *\n",
        "import numpy as np\n",
        "import numpy.linalg as la\n",
        "import firedrake.mesh as fd_mesh\n",
        "import matplotlib.pyplot as plt"
      ]
    },
    {
      "cell_type": "markdown",
      "metadata": {},
      "source": [
        "## Mesh the Domain\n",
        "\n",
        "This uses [meshpy](https://documen.tician.de/meshpy/), which under the hood uses [Triangle](https://www.cs.cmu.edu/~quake/triangle.html).\n",
        "\n",
        "`pip install meshpy` to install.\n",
        "\n",
        "NB: Triangle is *not* open-source software. If you are looking for a quality mesher that is open-source (but a bit more complex to use), look at [Gmsh](http://gmsh.info/)."
      ]
    },
    {
      "cell_type": "code",
      "execution_count": 83,
      "metadata": {},
      "outputs": [],
      "source": [
        "import meshpy.triangle as triangle\n",
        "\n",
        "def round_trip_connect(start, end):\n",
        "    return [(i, i+1) for i in range(start, end)] + [(end, start)]\n",
        "\n",
        "def make_mesh():\n",
        "    points = [(-1, -1), (1, -1), (1, 1), (-1, 1)]\n",
        "    facets = round_trip_connect(0, len(points)-1)\n",
        "    facet_markers = [1, 2, 3, 4]\n",
        "\n",
        "    circ_start = len(points)\n",
        "    nsegments = 30\n",
        "    points.extend(\n",
        "            (0.25 * np.cos(angle), 0.25 * np.sin(angle))\n",
        "            for angle in np.linspace(0, 2*np.pi, nsegments, endpoint=False))\n",
        "\n",
        "    facets.extend(round_trip_connect(circ_start, len(points)-1))\n",
        "    facet_markers.extend([-1] * nsegments)\n",
        "\n",
        "    def needs_refinement(vertices, area):\n",
        "        bary = np.sum(np.array(vertices), axis=0)/3\n",
        "        max_area = 0.01 + la.norm(bary, np.inf)*0.01\n",
        "        return bool(area > max_area)\n",
        "\n",
        "    info = triangle.MeshInfo()\n",
        "    info.set_points(points)\n",
        "    info.set_facets(facets, facet_markers=facet_markers)\n",
        "\n",
        "    built_mesh = triangle.build(info, refinement_func=needs_refinement)\n",
        "    plex = fd_mesh._from_cell_list(\n",
        "        2, np.array(built_mesh.elements), np.array(built_mesh.points), COMM_WORLD)\n",
        "\n",
        "    import firedrake.cython.dmplex as dmplex\n",
        "\n",
        "    v_start, v_end = plex.getDepthStratum(0)   # vertices\n",
        "    for facet, fmarker in zip(built_mesh.facets, built_mesh.facet_markers):\n",
        "        vertices = [fvert + v_start for fvert in facet]\n",
        "        if fmarker > 0:  # interior facets are negative above\n",
        "            join = plex.getJoin(vertices)\n",
        "            plex.setLabelValue(dmplex.FACE_SETS_LABEL, join[0], fmarker)\n",
        "\n",
        "    return Mesh(plex)\n",
        "    \n",
        "mesh = make_mesh()\n",
        "\n",
        "triplot(mesh)\n",
        "plt.legend()"
      ]
    },
    {
      "cell_type": "markdown",
      "metadata": {},
      "source": [
        "## Function Space"
      ]
    },
    {
      "cell_type": "code",
      "execution_count": 84,
      "metadata": {},
      "outputs": [],
      "source": [
        "V = FunctionSpace(mesh, 'Lagrange', 1)"
      ]
    },
    {
      "cell_type": "markdown",
      "metadata": {},
      "source": [
        "## RHS and Coefficient"
      ]
    },
    {
      "cell_type": "code",
      "execution_count": 85,
      "metadata": {
        "collapsed": false,
        "jupyter": {
          "outputs_hidden": false
        }
      },
      "outputs": [],
      "source": [
        "x = SpatialCoordinate(mesh)\n",
        "f = conditional(le(sqrt(x[0]**2 + x[1]**2), 0.25), 25.0, 0.0)\n",
        "kappa = conditional(le(sqrt(x[0]**2 + x[1]**2), 0.25), 25.0, 0.1)"
      ]
    },
    {
      "cell_type": "markdown",
      "metadata": {},
      "source": [
        "## Boundary Conditions"
      ]
    },
    {
      "cell_type": "code",
      "execution_count": 93,
      "metadata": {},
      "outputs": [],
      "source": [
        "g = interpolate(20.0 * (1-x[0]*x[0]), V)\n",
        "bcg = DirichletBC(V, g, [1])\n",
        "bcz = DirichletBC(V, 0.0, [2,3,4])\n",
        "bc = [bcg, bcz]"
      ]
    },
    {
      "cell_type": "markdown",
      "metadata": {},
      "source": [
        "## Symbolic *Trial* and *Test* Functions"
      ]
    },
    {
      "cell_type": "code",
      "execution_count": 94,
      "metadata": {},
      "outputs": [],
      "source": []
    },
    {
      "cell_type": "markdown",
      "metadata": {},
      "source": [
        "## Weak form\n",
        "\n",
        "Pieces:\n",
        "\n",
        "- `inner`\n",
        "- `grad`\n",
        "- `dx`"
      ]
    },
    {
      "cell_type": "code",
      "execution_count": 95,
      "metadata": {},
      "outputs": [],
      "source": []
    },
    {
      "cell_type": "markdown",
      "metadata": {},
      "source": [
        "## Solve and Plot"
      ]
    },
    {
      "cell_type": "code",
      "execution_count": 96,
      "metadata": {
        "collapsed": false,
        "jupyter": {
          "outputs_hidden": false
        }
      },
      "outputs": [],
      "source": [
        "U = Function(V)\n",
        "solve(a == L, U, bc)"
      ]
    },
    {
      "cell_type": "code",
      "execution_count": 97,
      "metadata": {
        "collapsed": false,
        "jupyter": {
          "outputs_hidden": false
        }
      },
      "outputs": [],
      "source": [
        "tricontourf(U)"
      ]
    },
    {
      "cell_type": "code",
      "execution_count": 92,
      "metadata": {},
      "outputs": [],
      "source": [
        "fig = plt.figure(figsize=(10, 10))\n",
        "axes = fig.add_subplot(111, projection='3d')\n",
        "trisurf(U, axes=axes)"
      ]
    },
    {
      "cell_type": "code",
      "execution_count": null,
      "metadata": {},
      "outputs": [],
      "source": []
    }
  ],
  "metadata": {
    "kernelspec": {
      "display_name": "Python 3",
      "language": "python",
      "name": "python3"
    },
    "language_info": {
      "codemirror_mode": {
        "name": "ipython",
        "version": 3
      },
      "file_extension": ".py",
      "mimetype": "text/x-python",
      "name": "python",
      "nbconvert_exporter": "python",
      "pygments_lexer": "ipython3",
      "version": "3.8.3"
    }
  },
  "nbformat": 4,
  "nbformat_minor": 4
}