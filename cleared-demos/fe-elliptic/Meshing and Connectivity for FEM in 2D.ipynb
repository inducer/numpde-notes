{
  "cells": [
    {
      "cell_type": "markdown",
      "id": "c539b411-4de6-45b7-9a02-8eb733cca592",
      "metadata": {},
      "source": [
        "# Meshing and Connectivity for FEM in 2D\n",
        "\n",
        "Copyright (C) 2010-2020 Luke Olson<br>\n",
        "Copyright (C) 2020 Andreas Kloeckner\n",
        "\n",
        "<details>\n",
        "<summary>MIT License</summary>\n",
        "Permission is hereby granted, free of charge, to any person obtaining a copy\n",
        "of this software and associated documentation files (the \"Software\"), to deal\n",
        "in the Software without restriction, including without limitation the rights\n",
        "to use, copy, modify, merge, publish, distribute, sublicense, and/or sell\n",
        "copies of the Software, and to permit persons to whom the Software is\n",
        "furnished to do so, subject to the following conditions:\n",
        "\n",
        "The above copyright notice and this permission notice shall be included in\n",
        "all copies or substantial portions of the Software.\n",
        "\n",
        "THE SOFTWARE IS PROVIDED \"AS IS\", WITHOUT WARRANTY OF ANY KIND, EXPRESS OR\n",
        "IMPLIED, INCLUDING BUT NOT LIMITED TO THE WARRANTIES OF MERCHANTABILITY,\n",
        "FITNESS FOR A PARTICULAR PURPOSE AND NONINFRINGEMENT. IN NO EVENT SHALL THE\n",
        "AUTHORS OR COPYRIGHT HOLDERS BE LIABLE FOR ANY CLAIM, DAMAGES OR OTHER\n",
        "LIABILITY, WHETHER IN AN ACTION OF CONTRACT, TORT OR OTHERWISE, ARISING FROM,\n",
        "OUT OF OR IN CONNECTION WITH THE SOFTWARE OR THE USE OR OTHER DEALINGS IN\n",
        "THE SOFTWARE.\n",
        "</details>"
      ]
    },
    {
      "cell_type": "code",
      "execution_count": 7,
      "id": "15bb4d0f-56cc-4af0-9ff9-1cb80618fe20",
      "metadata": {},
      "outputs": [],
      "source": [
        "import numpy as np\n",
        "import scipy.linalg as la\n",
        "import scipy.sparse as sparse\n",
        "\n",
        "import matplotlib.pyplot as plt"
      ]
    },
    {
      "cell_type": "markdown",
      "id": "0b367c8d-c869-4174-b516-03806c9cb3e5",
      "metadata": {},
      "source": [
        "## Mesh the Domain\n",
        "\n",
        "This uses [meshpy](https://documen.tician.de/meshpy/), which under the hood uses [Triangle](https://www.cs.cmu.edu/~quake/triangle.html).\n",
        "\n",
        "`pip install meshpy` to install.\n",
        "\n",
        "NB: Triangle is *not* open-source software. If you are looking for a quality mesher that is open-source (but a bit more complex to use), look at [Gmsh](http://gmsh.info/)."
      ]
    },
    {
      "cell_type": "code",
      "execution_count": 4,
      "id": "ac22876b-0e2f-4bb0-aa96-606a7f28b42f",
      "metadata": {},
      "outputs": [],
      "source": [
        "import meshpy.triangle as triangle\n",
        "\n",
        "def round_trip_connect(start, end):\n",
        "    return [(i, i+1) for i in range(start, end)] + [(end, start)]\n",
        "\n",
        "def make_mesh():\n",
        "    points = [(-1, -1), (1, -1), (1, 1), (-1, 1)]\n",
        "    facets = round_trip_connect(0, len(points)-1)\n",
        "\n",
        "    circ_start = len(points)\n",
        "    points.extend(\n",
        "            (0.25 * np.cos(angle), 0.25 * np.sin(angle))\n",
        "            for angle in np.linspace(0, 2*np.pi, 30, endpoint=False))\n",
        "\n",
        "    facets.extend(round_trip_connect(circ_start, len(points)-1))\n",
        "\n",
        "    def needs_refinement(vertices, area):\n",
        "        bary = np.sum(np.array(vertices), axis=0)/3\n",
        "        max_area = 0.01 + la.norm(bary, np.inf)*0.01\n",
        "        return bool(area > max_area)\n",
        "\n",
        "    info = triangle.MeshInfo()\n",
        "    info.set_points(points)\n",
        "    info.set_facets(facets)\n",
        "\n",
        "    built_mesh = triangle.build(info, refinement_func=needs_refinement)\n",
        "    return np.array(built_mesh.points), np.array(built_mesh.elements)\n",
        "\n",
        "V, E = make_mesh()"
      ]
    },
    {
      "cell_type": "code",
      "execution_count": 5,
      "id": "efe0583b-c996-4a7d-b657-774880569ee4",
      "metadata": {},
      "outputs": [],
      "source": [
        "nv = len(V)\n",
        "ne = len(E)\n",
        "print(V.shape)\n",
        "print(E.shape)\n",
        "print(E.max())\n",
        "X, Y = V[:, 0], V[:, 1]"
      ]
    },
    {
      "cell_type": "code",
      "execution_count": 8,
      "id": "4174bf48-56ac-4ce4-b13b-af5dbb3121e5",
      "metadata": {},
      "outputs": [],
      "source": [
        "plt.figure(figsize=(7,7))\n",
        "plt.gca().set_aspect(\"equal\")\n",
        "plt.triplot(X, Y, E)"
      ]
    },
    {
      "cell_type": "markdown",
      "id": "3ff29c66-eac4-411b-8ef1-2cecdc9aa328",
      "metadata": {},
      "source": [
        "## Explore Connectivity\n",
        "\n",
        "Compute the vertex-to-edge connections as `V2E`."
      ]
    },
    {
      "cell_type": "code",
      "execution_count": null,
      "id": "ab10b2ab-0835-4c67-a1f0-3aae00c3b5a0",
      "metadata": {},
      "outputs": [],
      "source": [
        "print('V shape: ', V.shape)\n",
        "print('E shape: ', E.shape)"
      ]
    },
    {
      "cell_type": "code",
      "execution_count": 10,
      "id": "82814015-7d83-4cde-a236-82145617f5ae",
      "metadata": {},
      "outputs": [],
      "source": [
        "element_ids = np.empty((ne, 3), dtype=np.intp)\n",
        "element_ids[:] = np.arange(ne).reshape(-1, 1)\n",
        "\n",
        "V2E = sparse.coo_matrix(\n",
        "    (np.ones((ne*3,), dtype=np.intp), \n",
        "     (E.ravel(), \n",
        "      element_ids.ravel(),)))\n",
        "print('V2E shape: ', V2E.shape)"
      ]
    },
    {
      "cell_type": "markdown",
      "id": "05cc5e71-d1e6-4f03-aacf-94592d2ff49c",
      "metadata": {},
      "source": [
        "Compute\n",
        "\n",
        "- the element-to-element connections `E2E`, and\n",
        "- the vertex-to-vertex connections `V2V`."
      ]
    },
    {
      "cell_type": "code",
      "execution_count": 12,
      "id": "90477041-4498-4694-acca-f63c36cb6b62",
      "metadata": {},
      "outputs": [],
      "source": []
    },
    {
      "cell_type": "code",
      "execution_count": 13,
      "id": "cca0c11b-e619-48c0-8117-f1990dded22d",
      "metadata": {},
      "outputs": [],
      "source": [
        "print('V2V shape: ', V2V.shape)\n",
        "print('E2E shape: ', E2E.shape)"
      ]
    },
    {
      "cell_type": "markdown",
      "id": "2c32588c-eb53-4dc5-aae3-7c780819e43f",
      "metadata": {},
      "source": [
        "Plot the vertex degrees."
      ]
    },
    {
      "cell_type": "code",
      "execution_count": 14,
      "id": "31e38f52-7941-42ea-90e2-b5acadbbfe2f",
      "metadata": {},
      "outputs": [],
      "source": [
        "plt.scatter(X, Y, c=V2V.diagonal(), clip_on=False)\n",
        "plt.colorbar()\n",
        "plt.show()"
      ]
    },
    {
      "cell_type": "markdown",
      "id": "5a70c946-20ac-4a3c-aad1-6ce7f2fa877f",
      "metadata": {},
      "source": [
        "Explain this:"
      ]
    },
    {
      "cell_type": "code",
      "execution_count": 15,
      "id": "5b115a92-2946-4a82-9ec7-accd82074713",
      "metadata": {},
      "outputs": [],
      "source": [
        "E2E.diagonal()"
      ]
    },
    {
      "cell_type": "code",
      "execution_count": 16,
      "id": "0387a034-61bc-4c9a-8919-f1b6e10cc43b",
      "metadata": {},
      "outputs": [],
      "source": [
        "E2E.data[:] = 1\n",
        "num_neighbors = np.array(E2E.sum(axis=0)).ravel()\n",
        "plt.tripcolor(X, Y, triangles=E, facecolors=num_neighbors)\n",
        "plt.colorbar()\n",
        "plt.show()"
      ]
    },
    {
      "cell_type": "code",
      "execution_count": null,
      "id": "c33d9858-c537-4986-a4c9-df1b1db965a0",
      "metadata": {},
      "outputs": [],
      "source": []
    }
  ],
  "metadata": {
    "kernelspec": {
      "display_name": "Python 3 (ipykernel)",
      "language": "python",
      "name": "python3"
    },
    "language_info": {
      "codemirror_mode": {
        "name": "ipython",
        "version": 3
      },
      "file_extension": ".py",
      "mimetype": "text/x-python",
      "name": "python",
      "nbconvert_exporter": "python",
      "pygments_lexer": "ipython3",
      "version": "3.10.4"
    }
  },
  "nbformat": 4,
  "nbformat_minor": 5
}