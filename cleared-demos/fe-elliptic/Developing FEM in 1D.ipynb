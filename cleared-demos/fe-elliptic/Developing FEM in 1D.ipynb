{
  "cells": [
    {
      "cell_type": "markdown",
      "metadata": {},
      "source": [
        "# Developing FEM in 1D\n",
        "\n",
        "Copyright (C) 2020 Andreas Kloeckner\n",
        "\n",
        "<details>\n",
        "<summary>MIT License</summary>\n",
        "Permission is hereby granted, free of charge, to any person obtaining a copy\n",
        "of this software and associated documentation files (the \"Software\"), to deal\n",
        "in the Software without restriction, including without limitation the rights\n",
        "to use, copy, modify, merge, publish, distribute, sublicense, and/or sell\n",
        "copies of the Software, and to permit persons to whom the Software is\n",
        "furnished to do so, subject to the following conditions:\n",
        "\n",
        "The above copyright notice and this permission notice shall be included in\n",
        "all copies or substantial portions of the Software.\n",
        "\n",
        "THE SOFTWARE IS PROVIDED \"AS IS\", WITHOUT WARRANTY OF ANY KIND, EXPRESS OR\n",
        "IMPLIED, INCLUDING BUT NOT LIMITED TO THE WARRANTIES OF MERCHANTABILITY,\n",
        "FITNESS FOR A PARTICULAR PURPOSE AND NONINFRINGEMENT. IN NO EVENT SHALL THE\n",
        "AUTHORS OR COPYRIGHT HOLDERS BE LIABLE FOR ANY CLAIM, DAMAGES OR OTHER\n",
        "LIABILITY, WHETHER IN AN ACTION OF CONTRACT, TORT OR OTHERWISE, ARISING FROM,\n",
        "OUT OF OR IN CONNECTION WITH THE SOFTWARE OR THE USE OR OTHER DEALINGS IN\n",
        "THE SOFTWARE.\n",
        "</details>"
      ]
    },
    {
      "cell_type": "code",
      "execution_count": 1,
      "metadata": {
        "deletable": true,
        "editable": true
      },
      "outputs": [],
      "source": [
        "import numpy as np\n",
        "import numpy.linalg as la\n",
        "import scipy as sp\n",
        "import matplotlib.pyplot as plt\n",
        "import scipy.sparse as sparse\n",
        "import scipy.sparse.linalg as sla"
      ]
    },
    {
      "cell_type": "markdown",
      "metadata": {
        "deletable": true,
        "editable": true
      },
      "source": [
        "## Boundary Value Problem\n",
        "\n",
        "$$\n",
        "\\begin{align*}\n",
        "- u'' &= f(x)\\\\\n",
        "u(0) = u(1) &= 0\n",
        "\\end{align*}\n",
        "$$"
      ]
    },
    {
      "cell_type": "code",
      "execution_count": 2,
      "metadata": {},
      "outputs": [],
      "source": [
        "if 1:\n",
        "    def f(x):\n",
        "        return 2+0*x\n",
        "    \n",
        "    def uexact(x):\n",
        "        return x*(1-x)\n",
        "    \n",
        "elif 1:\n",
        "    wavenr = 5\n",
        "    \n",
        "    def uexact(x):\n",
        "        return np.sin(wavenr * np.pi * x)\n",
        "    def f(x):\n",
        "        return (wavenr*np.pi)**2 * uexact(x)\n",
        "    \n",
        "else:\n",
        "    def f(x):\n",
        "        return 100*np.exp(-(x-0.5)**2 / 0.001)\n",
        "    \n",
        "    uexact = None"
      ]
    },
    {
      "cell_type": "markdown",
      "metadata": {
        "deletable": true,
        "editable": true
      },
      "source": [
        "## Grid Setup\n",
        "\n",
        "`V` is a list of vertices.  `E` is a list of elements (segments)."
      ]
    },
    {
      "cell_type": "code",
      "execution_count": 3,
      "metadata": {
        "deletable": true,
        "editable": true
      },
      "outputs": [],
      "source": [
        "# number of points, crank me up\n",
        "nx = 6\n",
        "\n",
        "V = np.linspace(0,1,nx)\n",
        "E = np.zeros((nx-1,2), dtype=int)\n",
        "E[:,0] = np.arange(0,nx-1)\n",
        "E[:,1] = np.arange(1,nx)\n",
        "h = V[1] - V[0] # mesh spacing"
      ]
    },
    {
      "cell_type": "code",
      "execution_count": 4,
      "metadata": {},
      "outputs": [],
      "source": [
        "if len(E) < 10:\n",
        "    print(E)"
      ]
    },
    {
      "cell_type": "markdown",
      "metadata": {},
      "source": [
        "## COOrdinate Matrix Semantics\n",
        "\n",
        "*Note:* What happened to the duplicated entry?"
      ]
    },
    {
      "cell_type": "code",
      "execution_count": 5,
      "metadata": {},
      "outputs": [],
      "source": [
        "rows = [0,2,3,4,4]\n",
        "cols = [4,1,2,4,4]\n",
        "vals = [7,7,7,5,50]\n",
        "sample_mat = sparse.coo_matrix((vals, (rows, cols))).toarray()\n",
        "sample_mat"
      ]
    },
    {
      "cell_type": "markdown",
      "metadata": {},
      "source": [
        "## Reference Matrix\n",
        "\n",
        "Basis functions (on [0,1]):\n",
        "$$\n",
        "\\begin{align*}\n",
        "  \\phi_1(x) &= 1-x,\\\\\n",
        "  \\phi_2(x) &= x,\n",
        "\\end{align*}\n",
        "$$\n",
        "\n",
        "For both degrees of freedom in the element, figure:\n",
        "$$\n",
        "\\hat A_{i,j} = \\int \\phi_i'(x) \\phi_j'(x) dx\n",
        "$$"
      ]
    },
    {
      "cell_type": "code",
      "execution_count": 6,
      "metadata": {},
      "outputs": [],
      "source": []
    },
    {
      "cell_type": "markdown",
      "metadata": {},
      "source": [
        "## Assembly Helper"
      ]
    },
    {
      "cell_type": "code",
      "execution_count": 7,
      "metadata": {},
      "outputs": [],
      "source": [
        "class MatrixBuilder:\n",
        "    def __init__(self):\n",
        "        self.rows = []\n",
        "        self.cols = []\n",
        "        self.vals = []\n",
        "        \n",
        "    def add(self, rows, cols, submat):\n",
        "        for i, ri in enumerate(rows):\n",
        "            for j, cj in enumerate(cols):\n",
        "                self.rows.append(ri)\n",
        "                self.cols.append(cj)\n",
        "                self.vals.append(submat[i, j])\n",
        "                \n",
        "    def coo_matrix(self):\n",
        "        return sparse.coo_matrix((self.vals, (self.rows, self.cols)))"
      ]
    },
    {
      "cell_type": "markdown",
      "metadata": {
        "deletable": true,
        "editable": true
      },
      "source": [
        "## Assembly of the Linear System\n",
        "\n",
        "Assemble $A$:"
      ]
    },
    {
      "cell_type": "code",
      "execution_count": 8,
      "metadata": {
        "collapsed": false,
        "deletable": true,
        "editable": true,
        "jupyter": {
          "outputs_hidden": false
        }
      },
      "outputs": [],
      "source": []
    },
    {
      "cell_type": "markdown",
      "metadata": {},
      "source": [
        "For both degrees of freedom involved in each element, assemble the RHS vector:\n",
        "$$\n",
        "b_i=\\int_E f(x) \\phi_i(x) dx\n",
        "$$\n"
      ]
    },
    {
      "cell_type": "code",
      "execution_count": 9,
      "metadata": {},
      "outputs": [],
      "source": []
    },
    {
      "cell_type": "markdown",
      "metadata": {},
      "source": [
        "Examine the matrix."
      ]
    },
    {
      "cell_type": "code",
      "execution_count": 10,
      "metadata": {
        "deletable": true,
        "editable": true
      },
      "outputs": [],
      "source": [
        "print(A.toarray()*h)"
      ]
    },
    {
      "cell_type": "markdown",
      "metadata": {},
      "source": [
        "Notice anything?"
      ]
    },
    {
      "cell_type": "code",
      "execution_count": 11,
      "metadata": {},
      "outputs": [],
      "source": []
    },
    {
      "cell_type": "markdown",
      "metadata": {
        "deletable": true,
        "editable": true
      },
      "source": [
        "## Boundary Conditions\n",
        "\n",
        "Add boundary conditions."
      ]
    },
    {
      "cell_type": "code",
      "execution_count": 12,
      "metadata": {
        "deletable": true,
        "editable": true
      },
      "outputs": [],
      "source": []
    },
    {
      "cell_type": "markdown",
      "metadata": {},
      "source": [
        "Examine the matrix after applying BCs:"
      ]
    },
    {
      "cell_type": "code",
      "execution_count": 13,
      "metadata": {},
      "outputs": [],
      "source": [
        "print(A.toarray()*h)"
      ]
    },
    {
      "cell_type": "markdown",
      "metadata": {},
      "source": [
        "## Computing the Solution\n",
        "\n",
        "Plot the RHS $f$."
      ]
    },
    {
      "cell_type": "code",
      "execution_count": 14,
      "metadata": {
        "collapsed": false,
        "deletable": true,
        "editable": true,
        "jupyter": {
          "outputs_hidden": false
        }
      },
      "outputs": [],
      "source": [
        "if len(E) < 10:\n",
        "    plotmode = \"o-\"\n",
        "else:\n",
        "    plotmode = \"-\"\n",
        "    \n",
        "plt.plot(V, f(V), plotmode)"
      ]
    },
    {
      "cell_type": "markdown",
      "metadata": {},
      "source": [
        "Solve and plot the solution."
      ]
    },
    {
      "cell_type": "code",
      "execution_count": 15,
      "metadata": {
        "deletable": true,
        "editable": true
      },
      "outputs": [],
      "source": [
        "u = sla.spsolve(A, b)"
      ]
    },
    {
      "cell_type": "code",
      "execution_count": 16,
      "metadata": {
        "collapsed": false,
        "deletable": true,
        "editable": true,
        "jupyter": {
          "outputs_hidden": false
        }
      },
      "outputs": [],
      "source": [
        "plt.plot(V, u, plotmode)\n",
        "\n",
        "if uexact is not None:\n",
        "    plt.plot(V, uexact(V), plotmode)"
      ]
    },
    {
      "cell_type": "code",
      "execution_count": 17,
      "metadata": {},
      "outputs": [],
      "source": [
        "if uexact is not None:\n",
        "    u_ex_h = uexact(V)\n",
        "    print(la.norm(u - u_ex_h)/la.norm(u_ex_h))"
      ]
    },
    {
      "cell_type": "code",
      "execution_count": null,
      "metadata": {},
      "outputs": [],
      "source": []
    }
  ],
  "metadata": {
    "kernelspec": {
      "display_name": "Python 3",
      "language": "python",
      "name": "python3"
    },
    "language_info": {
      "codemirror_mode": {
        "name": "ipython",
        "version": 3
      },
      "file_extension": ".py",
      "mimetype": "text/x-python",
      "name": "python",
      "nbconvert_exporter": "python",
      "pygments_lexer": "ipython3",
      "version": "3.8.3"
    }
  },
  "nbformat": 4,
  "nbformat_minor": 4
}