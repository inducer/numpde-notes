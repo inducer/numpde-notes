{
  "cells": [
    {
      "cell_type": "markdown",
      "metadata": {},
      "source": [
        "# Dispersion and Dissipation\n",
        "\n",
        "Copyright (C) 2010-2020 Luke Olson<br>\n",
        "Copyright (C) 2020 Andreas Kloeckner\n",
        "\n",
        "<details>\n",
        "<summary>MIT License</summary>\n",
        "Permission is hereby granted, free of charge, to any person obtaining a copy\n",
        "of this software and associated documentation files (the \"Software\"), to deal\n",
        "in the Software without restriction, including without limitation the rights\n",
        "to use, copy, modify, merge, publish, distribute, sublicense, and/or sell\n",
        "copies of the Software, and to permit persons to whom the Software is\n",
        "furnished to do so, subject to the following conditions:\n",
        "\n",
        "The above copyright notice and this permission notice shall be included in\n",
        "all copies or substantial portions of the Software.\n",
        "\n",
        "THE SOFTWARE IS PROVIDED \"AS IS\", WITHOUT WARRANTY OF ANY KIND, EXPRESS OR\n",
        "IMPLIED, INCLUDING BUT NOT LIMITED TO THE WARRANTIES OF MERCHANTABILITY,\n",
        "FITNESS FOR A PARTICULAR PURPOSE AND NONINFRINGEMENT. IN NO EVENT SHALL THE\n",
        "AUTHORS OR COPYRIGHT HOLDERS BE LIABLE FOR ANY CLAIM, DAMAGES OR OTHER\n",
        "LIABILITY, WHETHER IN AN ACTION OF CONTRACT, TORT OR OTHERWISE, ARISING FROM,\n",
        "OUT OF OR IN CONNECTION WITH THE SOFTWARE OR THE USE OR OTHER DEALINGS IN\n",
        "THE SOFTWARE.\n",
        "</details>"
      ]
    },
    {
      "cell_type": "code",
      "execution_count": 1,
      "metadata": {},
      "outputs": [],
      "source": [
        "import numpy as np\n",
        "import scipy as sp\n",
        "import matplotlib.pyplot as plt"
      ]
    },
    {
      "cell_type": "markdown",
      "metadata": {},
      "source": [
        "Consider\n",
        "$$u_t+au_x=0$$\n",
        "with periodic boundary conditions.\n",
        "\n",
        "Set up parameters:\n",
        "\n",
        "- `a` for the advection speed\n",
        "- `lmbda` for the CFL number\n",
        "- `dx` for the grid spacing in $x$\n",
        "- `dt` for the time step\n",
        "- `ks` for the range of wave numbers to consider"
      ]
    },
    {
      "cell_type": "code",
      "execution_count": 2,
      "metadata": {},
      "outputs": [],
      "source": [
        "a = 1\n",
        "lmbda = 0.6/a\n",
        "dx = .1\n",
        "dt = dx*lmbda\n",
        "ks = np.arange(1,16)"
      ]
    },
    {
      "cell_type": "markdown",
      "metadata": {},
      "source": [
        "Find $\\omega(\\kappa)$. Recall $\\lambda = ah_t / h_x$.\n",
        "\n",
        "ETBS:\n",
        "$$ u_{k, \\ell + 1} = \\lambda u_{k - 1 , \\ell} + (1 - \\lambda) u_{k, \\ell} $$\n",
        "\n",
        "Recall:\n",
        "* $r_k=\\delta_{k,j}\\Leftrightarrow\\hat{\\boldsymbol{r}} (\\varphi) =  e^{- i \\theta j}$.\n",
        "* Index sign flip between matrix and Toeplitz vector.\n",
        "* $e^{- i \\omega (\\kappa) h_t} = s (\\kappa)$."
      ]
    },
    {
      "cell_type": "code",
      "execution_count": 9,
      "metadata": {},
      "outputs": [],
      "source": []
    },
    {
      "cell_type": "markdown",
      "metadata": {},
      "source": [
        "Again recall $\\lambda = ah_t / h_x$.\n",
        "\n",
        "Lax-Wendroff:\n",
        "$$\n",
        "  u_{k, \\ell + 1} - u_{k, \\ell}\n",
        "  = -\\frac{\\lambda}2 (u_{k + 1, \\ell} - u_{k - 1, \\ell}) +\n",
        "  \\frac{\\lambda^2}{2} ( u_{k + 1, \\ell} - 2 u_{k, \\ell} + u_{k - 1, \\ell})\n",
        "$$"
      ]
    },
    {
      "cell_type": "code",
      "execution_count": 10,
      "metadata": {},
      "outputs": [],
      "source": []
    },
    {
      "cell_type": "code",
      "execution_count": 11,
      "metadata": {
        "collapsed": false,
        "jupyter": {
          "outputs_hidden": false
        }
      },
      "outputs": [],
      "source": [
        "plt.plot(ks, omega_ETBS.real, label=\"ETBS\")\n",
        "plt.plot(ks, omega_LW.real, label=\"Lax-Wendroff\")\n",
        "plt.plot(ks, a*ks, color='black', label='exact')\n",
        "plt.legend(loc=\"best\")"
      ]
    },
    {
      "cell_type": "code",
      "execution_count": 12,
      "metadata": {
        "collapsed": false,
        "jupyter": {
          "outputs_hidden": false
        }
      },
      "outputs": [],
      "source": [
        "plt.plot( ks, omega_ETBS.imag, label=\"ETBS\")\n",
        "plt.plot( ks, omega_LW.imag, label=\"Lax-Wendroff\")\n",
        "plt.legend(loc=\"best\")"
      ]
    },
    {
      "cell_type": "code",
      "execution_count": null,
      "metadata": {},
      "outputs": [],
      "source": []
    }
  ],
  "metadata": {
    "kernelspec": {
      "display_name": "Python 3",
      "language": "python",
      "name": "python3"
    },
    "language_info": {
      "codemirror_mode": {
        "name": "ipython",
        "version": 3
      },
      "file_extension": ".py",
      "mimetype": "text/x-python",
      "name": "python",
      "nbconvert_exporter": "python",
      "pygments_lexer": "ipython3",
      "version": "3.8.3"
    }
  },
  "nbformat": 4,
  "nbformat_minor": 4
}