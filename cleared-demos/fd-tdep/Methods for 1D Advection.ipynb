{
  "cells": [
    {
      "cell_type": "markdown",
      "metadata": {},
      "source": [
        "# Methods for 1D Advection\n",
        "\n",
        "Copyright (C) 2010-2020 Luke Olson<br>\n",
        "Copyright (C) 2020 Andreas Kloeckner\n",
        "\n",
        "<details>\n",
        "<summary>MIT License</summary>\n",
        "Permission is hereby granted, free of charge, to any person obtaining a copy\n",
        "of this software and associated documentation files (the \"Software\"), to deal\n",
        "in the Software without restriction, including without limitation the rights\n",
        "to use, copy, modify, merge, publish, distribute, sublicense, and/or sell\n",
        "copies of the Software, and to permit persons to whom the Software is\n",
        "furnished to do so, subject to the following conditions:\n",
        "\n",
        "The above copyright notice and this permission notice shall be included in\n",
        "all copies or substantial portions of the Software.\n",
        "\n",
        "THE SOFTWARE IS PROVIDED \"AS IS\", WITHOUT WARRANTY OF ANY KIND, EXPRESS OR\n",
        "IMPLIED, INCLUDING BUT NOT LIMITED TO THE WARRANTIES OF MERCHANTABILITY,\n",
        "FITNESS FOR A PARTICULAR PURPOSE AND NONINFRINGEMENT. IN NO EVENT SHALL THE\n",
        "AUTHORS OR COPYRIGHT HOLDERS BE LIABLE FOR ANY CLAIM, DAMAGES OR OTHER\n",
        "LIABILITY, WHETHER IN AN ACTION OF CONTRACT, TORT OR OTHERWISE, ARISING FROM,\n",
        "OUT OF OR IN CONNECTION WITH THE SOFTWARE OR THE USE OR OTHER DEALINGS IN\n",
        "THE SOFTWARE.\n",
        "</details>"
      ]
    },
    {
      "cell_type": "code",
      "execution_count": 1,
      "metadata": {
        "collapsed": false,
        "jupyter": {
          "outputs_hidden": false
        }
      },
      "outputs": [],
      "source": [
        "import numpy as np\n",
        "import scipy as sp\n",
        "import matplotlib.pyplot as plt"
      ]
    },
    {
      "cell_type": "markdown",
      "metadata": {},
      "source": [
        "## Problem Description"
      ]
    },
    {
      "cell_type": "markdown",
      "metadata": {},
      "source": [
        "Here you will set up the problem for\n",
        "$$ u_t + c u_x = 0$$\n",
        "with periodic BC on the interval [0,1]"
      ]
    },
    {
      "cell_type": "code",
      "execution_count": 2,
      "metadata": {
        "collapsed": false,
        "jupyter": {
          "outputs_hidden": false
        }
      },
      "outputs": [],
      "source": [
        "c = 1.0\n",
        "T = 1.0 / c # end time"
      ]
    },
    {
      "cell_type": "markdown",
      "metadata": {},
      "source": [
        "## Set up the Grid"
      ]
    },
    {
      "cell_type": "markdown",
      "metadata": {},
      "source": [
        "- `dx` will be the grid spacing in the $x$-direction\n",
        "- `x` will be the grid coordinates\n",
        "- `xx` will be really fine grid coordinates"
      ]
    },
    {
      "cell_type": "code",
      "execution_count": 3,
      "metadata": {
        "collapsed": false,
        "jupyter": {
          "outputs_hidden": false
        }
      },
      "outputs": [],
      "source": [
        "nx = 82\n",
        "x = np.linspace(0, 1, nx, endpoint=False)\n",
        "dx = x[1] - x[0]\n",
        "xx = np.linspace(0, 1, 1000, endpoint=False)"
      ]
    },
    {
      "cell_type": "markdown",
      "metadata": {},
      "source": [
        "Now define an initial condition:"
      ]
    },
    {
      "cell_type": "code",
      "execution_count": 4,
      "metadata": {
        "collapsed": false,
        "jupyter": {
          "outputs_hidden": false
        }
      },
      "outputs": [],
      "source": [
        "def f(x):\n",
        "    u = np.zeros(x.shape)\n",
        "    u[np.intersect1d(np.where(x>0.4), np.where(x<0.6))] = 1.0\n",
        "    return u"
      ]
    },
    {
      "cell_type": "code",
      "execution_count": 5,
      "metadata": {
        "collapsed": false,
        "jupyter": {
          "outputs_hidden": false
        }
      },
      "outputs": [],
      "source": [
        "plt.plot(x, f(x), lw=3, clip_on=False)"
      ]
    },
    {
      "cell_type": "markdown",
      "metadata": {},
      "source": [
        "## Setting the Time Step\n",
        "\n",
        "Have spatial grid. Now we need a time step. So define a ratio parameter $\\lambda$. Let\n",
        "$$ \\Delta t = \\Delta x \\frac{\\lambda}{c}$$"
      ]
    },
    {
      "cell_type": "code",
      "execution_count": 6,
      "metadata": {
        "collapsed": false,
        "jupyter": {
          "outputs_hidden": false
        }
      },
      "outputs": [],
      "source": [
        "lmbda = 0.93 * np.sign(c)\n",
        "dt = dx * lmbda / abs(c)\n",
        "nt = int(T/dt)\n",
        "print('T = %g' % T)\n",
        "print('tsteps = %d' % nt)\n",
        "print('    dx = %g' % dx)\n",
        "print('    dt = %g' % dt)\n",
        "print('lambda = %g' % lmbda)"
      ]
    },
    {
      "cell_type": "markdown",
      "metadata": {},
      "source": [
        "Now make an index list, called $J$, so that we can access $J+1$ and $J-1$ easily"
      ]
    },
    {
      "cell_type": "code",
      "execution_count": 7,
      "metadata": {
        "collapsed": false,
        "jupyter": {
          "outputs_hidden": false
        }
      },
      "outputs": [],
      "source": [
        "J = np.arange(0, nx - 1)  # all vertices\n",
        "Jm1 = np.roll(J, 1)\n",
        "Jp1 = np.roll(J, -1)"
      ]
    },
    {
      "cell_type": "markdown",
      "metadata": {},
      "source": [
        "## Run and Animate\n",
        "\n",
        "Experiments:\n",
        "\n",
        "- Try different values of $\\lambda$.\n",
        "- Try all the methods."
      ]
    },
    {
      "cell_type": "code",
      "execution_count": 8,
      "metadata": {
        "collapsed": false,
        "jupyter": {
          "outputs_hidden": false
        }
      },
      "outputs": [],
      "source": [
        "import time\n",
        "\n",
        "method = 'ETBS'\n",
        "plotit = True\n",
        "u = f(x)\n",
        "\n",
        "fig = plt.figure(figsize=(10,10))\n",
        "plt.title('u vs x')\n",
        "line1, = plt.plot(x, u, lw=3, clip_on=False)\n",
        "line2, = plt.plot(x, u, lw=3, clip_on=False)\n",
        "        \n",
        "def timestepper(n):\n",
        "    if method == 'ETBS':\n",
        "        u[J] = u[J] - lmbda * (u[J] - u[Jm1])\n",
        "            \n",
        "    if method == \"ETFS\":\n",
        "        u[J] = u[J] - lmbda * (u[Jp1] - u[J])\n",
        "        \n",
        "    if method == \"ETCS\":\n",
        "        u[J] = u[J] - lmbda * (1.0 / 2.0) * (u[Jp1] - u[Jm1])\n",
        "    \n",
        "    uex = f((xx - c * (n+1) * dt) % 1.0)\n",
        "        \n",
        "    line1.set_data(xx, uex)\n",
        "    line2.set_data(x, u)\n",
        "    \n",
        "    return line1, line2\n",
        "\n",
        "from matplotlib import animation\n",
        "from IPython.display import HTML\n",
        "\n",
        "ani = animation.FuncAnimation(fig, timestepper, frames=nt, interval=30)\n",
        "html = HTML(ani.to_jshtml())\n",
        "plt.clf()\n",
        "html"
      ]
    },
    {
      "cell_type": "markdown",
      "metadata": {},
      "source": [
        "## Check the Error"
      ]
    },
    {
      "cell_type": "code",
      "execution_count": 49,
      "metadata": {
        "collapsed": false,
        "jupyter": {
          "outputs_hidden": false
        }
      },
      "outputs": [],
      "source": [
        "uex = f((x - c * (nt+1) * dt) % 1.0)\n",
        "error = u - uex\n",
        "l2err = np.sqrt(dx * np.sum(error**2))\n",
        "print(l2err)"
      ]
    },
    {
      "cell_type": "code",
      "execution_count": null,
      "metadata": {},
      "outputs": [],
      "source": []
    }
  ],
  "metadata": {
    "kernelspec": {
      "display_name": "Python 3 (ipykernel)",
      "language": "python",
      "name": "python3"
    },
    "language_info": {
      "codemirror_mode": {
        "name": "ipython",
        "version": 3
      },
      "file_extension": ".py",
      "mimetype": "text/x-python",
      "name": "python",
      "nbconvert_exporter": "python",
      "pygments_lexer": "ipython3",
      "version": "3.10.2"
    }
  },
  "nbformat": 4,
  "nbformat_minor": 4
}