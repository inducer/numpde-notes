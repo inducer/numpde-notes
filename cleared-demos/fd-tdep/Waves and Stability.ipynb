{
  "cells": [
    {
      "cell_type": "markdown",
      "metadata": {},
      "source": [
        "# Waves and Stability\n",
        "\n",
        "Copyright (C) 2010-2020 Luke Olson<br>\n",
        "Copyright (C) 2020 Andreas Kloeckner\n",
        "\n",
        "<details>\n",
        "<summary>MIT License</summary>\n",
        "Permission is hereby granted, free of charge, to any person obtaining a copy\n",
        "of this software and associated documentation files (the \"Software\"), to deal\n",
        "in the Software without restriction, including without limitation the rights\n",
        "to use, copy, modify, merge, publish, distribute, sublicense, and/or sell\n",
        "copies of the Software, and to permit persons to whom the Software is\n",
        "furnished to do so, subject to the following conditions:\n",
        "\n",
        "The above copyright notice and this permission notice shall be included in\n",
        "all copies or substantial portions of the Software.\n",
        "\n",
        "THE SOFTWARE IS PROVIDED \"AS IS\", WITHOUT WARRANTY OF ANY KIND, EXPRESS OR\n",
        "IMPLIED, INCLUDING BUT NOT LIMITED TO THE WARRANTIES OF MERCHANTABILITY,\n",
        "FITNESS FOR A PARTICULAR PURPOSE AND NONINFRINGEMENT. IN NO EVENT SHALL THE\n",
        "AUTHORS OR COPYRIGHT HOLDERS BE LIABLE FOR ANY CLAIM, DAMAGES OR OTHER\n",
        "LIABILITY, WHETHER IN AN ACTION OF CONTRACT, TORT OR OTHERWISE, ARISING FROM,\n",
        "OUT OF OR IN CONNECTION WITH THE SOFTWARE OR THE USE OR OTHER DEALINGS IN\n",
        "THE SOFTWARE.\n",
        "</details>"
      ]
    },
    {
      "cell_type": "code",
      "execution_count": 1,
      "metadata": {},
      "outputs": [],
      "source": [
        "import numpy as np\n",
        "import matplotlib.pyplot as plt"
      ]
    },
    {
      "cell_type": "markdown",
      "metadata": {},
      "source": [
        "## Wavelength and Wavenumber\n",
        "\n",
        "Let $j$ be the wave number, then\n",
        "$$\n",
        "j = \\frac{2\\pi}{\\tilde{\\lambda}}\n",
        "$$\n",
        "where $\\tilde{\\lambda}$ is the wavelength.\n",
        "\n",
        "A sinusoidal wave is expressed as\n",
        "$$\n",
        "A \\cos \\left( \\frac{2 \\pi x}{\\tilde{\\lambda}} \\right).\n",
        "$$"
      ]
    },
    {
      "cell_type": "code",
      "execution_count": 2,
      "metadata": {
        "collapsed": false,
        "jupyter": {
          "outputs_hidden": false
        }
      },
      "outputs": [],
      "source": [
        "kdx = np.linspace(0, np.pi, 20) / np.pi\n",
        "plt.plot(kdx, np.cos(2*np.pi*kdx / 0.001))\n",
        "plt.plot(kdx, np.cos(2*np.pi*kdx / 1.0))"
      ]
    },
    {
      "cell_type": "code",
      "execution_count": 3,
      "metadata": {},
      "outputs": [],
      "source": [
        "def ampFTBS(jhx, lmbda):\n",
        "    return np.sqrt(1 - 2 * lmbda * (1 - lmbda) * (1 - np.cos(np.pi*jhx)))\n",
        "\n",
        "def ampBTCS(jhx, lmbda):\n",
        "    return 1 / np.sqrt(1 + lmbda**2 * np.sin(np.pi * jhx)**2)"
      ]
    },
    {
      "cell_type": "code",
      "execution_count": 7,
      "metadata": {
        "collapsed": false,
        "jupyter": {
          "outputs_hidden": false
        }
      },
      "outputs": [],
      "source": [
        "jhx = np.linspace(0, np.pi, 100) / np.pi\n",
        "\n",
        "#lmbdas = [0.1, 0.2, 0.4, 0.8, 0.9, 1.0, 1.2, 1.4, 1.8, 2.0]\n",
        "lmbdas = [0.1, 0.2, 0.5, 0.6, 0.75, 0.9, 1.1]\n",
        "\n",
        "for lmbda in lmbdas:\n",
        "    plt.plot(jhx, ampFTBS(jhx, lmbda), label='%g'%lmbda, lw=4)\n",
        "    \n",
        "plt.legend()\n",
        "plt.xlabel('$j h_x / \\pi$', fontsize=24)\n",
        "plt.ylabel('$|s(j)|$', fontsize=24)"
      ]
    },
    {
      "cell_type": "markdown",
      "metadata": {},
      "source": [
        "## Dispersion\n"
      ]
    },
    {
      "cell_type": "code",
      "execution_count": 5,
      "metadata": {
        "collapsed": false,
        "jupyter": {
          "outputs_hidden": false
        }
      },
      "outputs": [],
      "source": [
        "def alphaoverj(jhx, lmbda):\n",
        "    return np.arctan((lmbda * np.sin(np.pi*jhx)) / (1 - lmbda + lmbda*np.cos(np.pi*jhx))) / (lmbda * np.pi * jhx)"
      ]
    },
    {
      "cell_type": "code",
      "execution_count": 6,
      "metadata": {
        "collapsed": false,
        "jupyter": {
          "outputs_hidden": false
        }
      },
      "outputs": [],
      "source": [
        "jhx = np.linspace(0, np.pi, 100) / np.pi\n",
        "\n",
        "#lmbdas = [0.1, 0.2, 0.4, 0.8, 0.9, 1.0, 1.2, 1.4, 1.8, 2.0]\n",
        "lmbdas = [0.25, .33, 0.88]\n",
        "\n",
        "for lmbda in lmbdas:\n",
        "    plt.plot(jhx, alphaoverj(jhx, lmbda), label='%g' % lmbda)\n",
        "plt.legend()\n",
        "plt.xlabel('$j h_x / \\pi$', fontsize=24)"
      ]
    }
  ],
  "metadata": {
    "kernelspec": {
      "display_name": "Python 3",
      "language": "python",
      "name": "python3"
    },
    "language_info": {
      "codemirror_mode": {
        "name": "ipython",
        "version": 3
      },
      "file_extension": ".py",
      "mimetype": "text/x-python",
      "name": "python",
      "nbconvert_exporter": "python",
      "pygments_lexer": "ipython3",
      "version": "3.8.3"
    }
  },
  "nbformat": 4,
  "nbformat_minor": 4
}