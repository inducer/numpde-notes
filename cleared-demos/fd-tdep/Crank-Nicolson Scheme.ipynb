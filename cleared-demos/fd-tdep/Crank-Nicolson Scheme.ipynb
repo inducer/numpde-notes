{
  "cells": [
    {
      "cell_type": "markdown",
      "metadata": {},
      "source": [
        "# Crank-Nicolson Scheme\n",
        "\n",
        "Copyright (C) 2010-2020 Luke Olson<br>\n",
        "Copyright (C) 2020 Andreas Kloeckner\n",
        "\n",
        "<details>\n",
        "<summary>MIT License</summary>\n",
        "Permission is hereby granted, free of charge, to any person obtaining a copy\n",
        "of this software and associated documentation files (the \"Software\"), to deal\n",
        "in the Software without restriction, including without limitation the rights\n",
        "to use, copy, modify, merge, publish, distribute, sublicense, and/or sell\n",
        "copies of the Software, and to permit persons to whom the Software is\n",
        "furnished to do so, subject to the following conditions:\n",
        "\n",
        "The above copyright notice and this permission notice shall be included in\n",
        "all copies or substantial portions of the Software.\n",
        "\n",
        "THE SOFTWARE IS PROVIDED \"AS IS\", WITHOUT WARRANTY OF ANY KIND, EXPRESS OR\n",
        "IMPLIED, INCLUDING BUT NOT LIMITED TO THE WARRANTIES OF MERCHANTABILITY,\n",
        "FITNESS FOR A PARTICULAR PURPOSE AND NONINFRINGEMENT. IN NO EVENT SHALL THE\n",
        "AUTHORS OR COPYRIGHT HOLDERS BE LIABLE FOR ANY CLAIM, DAMAGES OR OTHER\n",
        "LIABILITY, WHETHER IN AN ACTION OF CONTRACT, TORT OR OTHERWISE, ARISING FROM,\n",
        "OUT OF OR IN CONNECTION WITH THE SOFTWARE OR THE USE OR OTHER DEALINGS IN\n",
        "THE SOFTWARE.\n",
        "</details>"
      ]
    },
    {
      "cell_type": "code",
      "execution_count": 2,
      "metadata": {},
      "outputs": [],
      "source": [
        "import numpy as np\n",
        "import scipy as sp\n",
        "import matplotlib.pyplot as plt"
      ]
    },
    {
      "cell_type": "markdown",
      "metadata": {},
      "source": [
        "## Problem Description\n",
        "\n",
        "Here you will set up the problem for\n",
        "$$ u_t - c u_x = 0$$\n",
        "with periodic BC on the interval [0,1]"
      ]
    },
    {
      "cell_type": "code",
      "execution_count": 3,
      "metadata": {},
      "outputs": [],
      "source": [
        "c = 1.0\n",
        "T = 1.0 / c # end time"
      ]
    },
    {
      "cell_type": "markdown",
      "metadata": {},
      "source": [
        "## Set up the Grid\n",
        "- `dx` will be the grid spacing in the $x$-direction  \n",
        "- `x` will be the grid coordinates  \n",
        "- `xx` will be really fine grid coordinates"
      ]
    },
    {
      "cell_type": "code",
      "execution_count": 4,
      "metadata": {},
      "outputs": [],
      "source": [
        "nx = 82\n",
        "x = np.linspace(0, 1, nx, endpoint=False)\n",
        "dx = x[1] - x[0]\n",
        "xx = np.linspace(0, 1, 1000, endpoint=False)"
      ]
    },
    {
      "cell_type": "markdown",
      "metadata": {},
      "source": [
        "Now define an initial condition:"
      ]
    },
    {
      "cell_type": "code",
      "execution_count": 5,
      "metadata": {},
      "outputs": [],
      "source": [
        "def square_wave(x):\n",
        "    u = np.zeros(x.shape)\n",
        "    u[np.intersect1d(np.where(x>0.4), np.where(x<0.6))] = 1.0\n",
        "    return u\n",
        "\n",
        "def sine_wave(x):\n",
        "    return np.sin(3.14159265359*x)  "
      ]
    },
    {
      "cell_type": "code",
      "execution_count": 6,
      "metadata": {
        "collapsed": false,
        "jupyter": {
          "outputs_hidden": false
        }
      },
      "outputs": [],
      "source": [
        "g = sine_wave\n",
        "plt.plot(x, g(x), lw=3, clip_on=False)"
      ]
    },
    {
      "cell_type": "markdown",
      "metadata": {},
      "source": [
        "## Setting the Time Step\n",
        "\n",
        "Now we need a time step.  Let\n",
        "$$ \\Delta t = \\Delta x \\frac{\\lambda}{c}$$\n",
        "So we need a parameter $\\lambda$\n",
        "\n",
        "<span style=\"color:red\">What happens when $\\lambda>1.0$?</span>"
      ]
    },
    {
      "cell_type": "code",
      "execution_count": 7,
      "metadata": {
        "collapsed": false,
        "jupyter": {
          "outputs_hidden": false
        }
      },
      "outputs": [],
      "source": [
        "lmbda = 1.03\n",
        "dt = dx * lmbda / c\n",
        "nt = int(T/dt)\n",
        "print('T = %g' % T)\n",
        "print('tsteps = %d' % nt)\n",
        "print('    dx = %g' % dx)\n",
        "print('    dt = %g' % dt)\n",
        "print('lambda = %g' % lmbda)"
      ]
    },
    {
      "cell_type": "markdown",
      "metadata": {},
      "source": [
        "## Crank-Nicolson\n",
        "\n",
        "$$ u_t - c u_x = 0$$  \n",
        "$$ u_t = c u_x $$  \n",
        "$$ \\frac{u_i^{n+1} - u_i^n}{\\Delta t} = c \\frac{1}{2}(\\frac{u_{i+1}^n - u_{i-1}^n}{2 \\Delta x} + \\frac{u_{i+1}^{n+1} - u_{i-1}^{n+1}}{2 \\Delta x})$$  \n",
        "$$ u_i^{n+1} = u_i^n + \\frac{c \\Delta t}{4 \\Delta x}(u_{i+1}^n - u_{i-1}^n + u_{i+1}^{n+1} - u_{i-1}^{n+1})$$\n",
        "\n",
        "This is an implicit scheme, so we'll need to solve a system. Move all $u^{n+1}$ terms to left side and let $\\lambda = \\frac{c \\Delta t}{\\Delta x}$:\n",
        "\n",
        "$$ -\\frac{\\lambda}{4} u_{i+1}^{n+1} + u_i^{n+1} + \\frac{\\lambda}{4} u_{i-1}^{n+1} = \\frac{\\lambda}{4} u_{i+1}^n + u_i^n - \\frac{\\lambda}{4} u_{i-1}^n$$\n",
        "\n",
        "Set up a system of equations:\n",
        "\n",
        "$$M_1 u^{n+1} = M_2 u^n$$\n",
        "\n",
        "Where $M_1 =$\n",
        "\\begin{bmatrix}\n",
        "    1 & \\frac{\\lambda}{4} & 0 & \\dots & 0 & -\\frac{\\lambda}{4} \\\\\n",
        "    -\\frac{\\lambda}{4} & 1 & \\frac{\\lambda}{4} & & & 0 \\\\\n",
        "    0 & -\\frac{\\lambda}{4} & \\ddots & \\ddots & & \\vdots \\\\\n",
        "    \\vdots & & \\ddots & & & 0 \\\\\n",
        "    0 & & & & & \\frac{\\lambda}{4} \\\\\n",
        "    \\frac{\\lambda}{4} & 0 & \\dots & 0 & -\\frac{\\lambda}{4} & 1\n",
        "\\end{bmatrix}\n",
        "\n",
        "The elements in the top right and bottom left corners enforce periodic boundary conditions.\n",
        "\n",
        "And $M_2 = M_1^T$."
      ]
    },
    {
      "cell_type": "markdown",
      "metadata": {},
      "source": [
        "## Implementation"
      ]
    },
    {
      "cell_type": "code",
      "execution_count": 7,
      "metadata": {
        "collapsed": false,
        "jupyter": {
          "outputs_hidden": false
        }
      },
      "outputs": [],
      "source": [
        "import time\n",
        "from IPython.display import clear_output, display\n",
        "plotit = True\n",
        "u = g(x)\n",
        "\n",
        "# create M1:\n",
        "lmbda_array = np.ones(nx-1)*[lmbda/4.0]\n",
        "m1 = np.diag(-1*lmbda_array, -1) + np.identity(nx) + np.diag(lmbda_array, 1)\n",
        "\n",
        "# enforce periodic boundary conditions\n",
        "m1[0][nx-1] = -lmbda/4.0\n",
        "m1[nx-1][0] = lmbda/4.0\n",
        "    \n",
        "# create M2:\n",
        "m2 = m1.transpose()\n",
        "\n",
        "if plotit:\n",
        "    fig = plt.figure(figsize=(10,10))\n",
        "    ax = fig.add_subplot(111)\n",
        "    ax.set_title('u vs x')\n",
        "\n",
        "for n in range(0, nt):\n",
        "   \n",
        "    u = np.linalg.solve(m1, np.dot(m2,u))\n",
        "    uex = g((xx - c * (n+1) * dt) % 1.0)\n",
        "    if plotit:\n",
        "        ax.plot(xx, uex, 'r-', lw=3, clip_on=False)\n",
        "        ax.plot(x, u, '-', lw=3, clip_on=False)\n",
        "        clear_output(True)\n",
        "        display(fig)\n",
        "        ax.cla()"
      ]
    },
    {
      "cell_type": "markdown",
      "metadata": {},
      "source": [
        "## Check the Error"
      ]
    },
    {
      "cell_type": "code",
      "execution_count": 8,
      "metadata": {
        "collapsed": false,
        "jupyter": {
          "outputs_hidden": false
        },
        "scrolled": true
      },
      "outputs": [],
      "source": [
        "n=nt-1\n",
        "uex = g((x - c * (n+1) * dt) % 1.0)\n",
        "error = u - uex\n",
        "l2err = np.sqrt(dx * np.sum(error**2))\n",
        "print(l2err)"
      ]
    }
  ],
  "metadata": {
    "anaconda-cloud": {},
    "kernelspec": {
      "display_name": "Python 3",
      "language": "python",
      "name": "python3"
    },
    "language_info": {
      "codemirror_mode": {
        "name": "ipython",
        "version": 3
      },
      "file_extension": ".py",
      "mimetype": "text/x-python",
      "name": "python",
      "nbconvert_exporter": "python",
      "pygments_lexer": "ipython3",
      "version": "3.8.3"
    }
  },
  "nbformat": 4,
  "nbformat_minor": 4
}